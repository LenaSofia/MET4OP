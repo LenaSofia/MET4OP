{
 "metadata": {
  "orig_nbformat": 4,
  "language_info": {
   "name": "python",
   "version": "3.7.8",
   "mimetype": "text/x-python",
   "codemirror_mode": {
    "name": "ipython",
    "version": 3
   },
   "pygments_lexer": "ipython3",
   "nbconvert_exporter": "python",
   "file_extension": ".py"
  },
  "kernelspec": {
   "name": "python3",
   "display_name": "Python 3",
   "language": "python"
  }
 },
 "nbformat_minor": 5,
 "nbformat": 4,
 "cells": [
  {
   "cell_type": "markdown",
   "source": [
    "# Importamos las librerías"
   ],
   "metadata": {},
   "id": "f7002ceb-0844-4bfa-a1ab-645e4c74572c"
  },
  {
   "cell_type": "code",
   "source": [
    "from os import replace\n",
    "import numpy as np\n",
    "import pandas as pd\n",
    "from numpy import fabs, random\n",
    "from patsy import dmatrix, dmatrices\n",
    "from statsmodels.formula.api import ols\n",
    "import statsmodels.api as sm\n",
    "import os\n",
    "import seaborn as sns\n",
    "import matplotlib.pyplot as plt"
   ],
   "metadata": {},
   "execution_count": 1,
   "outputs": [],
   "id": "9c1e1b0c-5a64-4d30-8056-01e826b5d412"
  },
  {
   "cell_type": "raw",
   "source": [
    "# Definimos las funciones para hayar los coeficientes:"
   ],
   "metadata": {},
   "id": "25668818-b3f6-4887-bb97-d2b0f3d81238"
  },
  {
   "cell_type": "code",
   "source": [
    "def armar_DF(x, y):\n",
    "    '''Se le pasan dos vectores (x, y) como parámetros y construye un DataFrame a partir de ellas'''\n",
    "    data_frame = pd.DataFrame(list(zip(x, y)), columns=['x', 'y'])\n",
    "    return data_frame"
   ],
   "metadata": {},
   "execution_count": null,
   "outputs": [],
   "id": "b2c25e6e-f945-4129-97a5-c59cd5c2126f"
  },
  {
   "cell_type": "code",
   "source": [
    "def generar_bootstrap(DF, repeticiones):\n",
    "    '''Se le pasan como parámetros un dataframe y la cantidad de repeticiones de bootstrap que se quiere realizar.\n",
    "    Por cada dataframe sampleado se extraen los coeficientes de la x y de la constante y se construye un dataframe\n",
    "    con esos datos'''\n",
    "    DF_coeficientes = pd.DataFrame()\n",
    "\n",
    "    for repeticion in range(0, repeticiones):\n",
    "        # Construye una nueva lista \"DF_sampleado\" a partir del sampleo con repeticiones de DF\n",
    "        DF_sampleado = DF.sample(n=len(DF), replace=True, random_state=None, axis=0,\n",
    "                                 ignore_index=False)\n",
    "\n",
    "        # Agrega la constante para calcular regresión\n",
    "        DF_sampleado = sm.add_constant(DF_sampleado)\n",
    "\n",
    "        reg = sm.OLS(DF_sampleado[\"y\"], DF_sampleado[[\"x\", \"const\"]]).fit()\n",
    "\n",
    "        coef = reg.params\n",
    "        coef_DF = coef.to_frame()\n",
    "        coef_DF = coef_DF.transpose()\n",
    "\n",
    "        # Agrego el DF del coeficiente actual al DF final\n",
    "        DF_coeficientes = DF_coeficientes.append(coef_DF, ignore_index=True)\n",
    "\n",
    "    DF_coeficientes = DF_coeficientes.rename(columns={'x': 'coef_x',\n",
    "                                                      'const': 'coef_const'})\n",
    "\n",
    "    return DF_coeficientes"
   ],
   "metadata": {},
   "execution_count": null,
   "outputs": [],
   "id": "246bf067-f121-42ca-9ac9-89b5519442a9"
  },
  {
   "cell_type": "code",
   "source": [
    "def sacar_cuantiles(*args):\n",
    "    '''Se le pasa como argumento la columna del dataframe del que se quieren calcular los cuantiles\n",
    "    (en formato DF[['columna']]) y devuelve un dataframe con los cuantiles [0.025, 0.25, 0.5, 0.75, 0.975]'''\n",
    "    cuantiles = pd.DataFrame()\n",
    "\n",
    "    for argumento in args:\n",
    "        cuantiles[argumento.columns] = argumento.quantile([0.025, 0.25, 0.5, 0.75, 0.975])\n",
    "\n",
    "    return cuantiles"
   ],
   "metadata": {},
   "execution_count": null,
   "outputs": [],
   "id": "2b031fe2-4158-422c-a115-6e1d75a6f14f"
  },
  {
   "cell_type": "code",
   "source": [
    "def hacer_graficos(*args):\n",
    "    '''Se le pasa como argumento la columna del dataframe que se quiere graficar (en formato DF[['columna']])\n",
    "     e imprime un gráfico de barras con la distribución de esos datos'''\n",
    "    indice = 0\n",
    "    fig, axes = plt.subplots(1, 2, squeeze=True, figsize=(12, 7))\n",
    "    for argumento in args:\n",
    "        sns.histplot(argumento, ax=axes[indice])\n",
    "        indice += 1\n",
    "\n",
    "    plt.show()"
   ],
   "metadata": {},
   "execution_count": null,
   "outputs": [],
   "id": "e3a64724-685a-470a-a646-ef2bd36126c4"
  },
  {
   "cell_type": "markdown",
   "source": [
    "# Definimos dos funciones agrupando las anteriores:"
   ],
   "metadata": {},
   "id": "8500a435-e06e-4151-9a31-3b49a434aee9"
  },
  {
   "cell_type": "code",
   "source": [
    "def encontrar_coeficientes(x, y, repeticiones):\n",
    "    '''Se le pasan como parámetros dos vectores (x, y). Construye un dataframe y calculo los coeficientes de x y de la\n",
    "    constante. Devuelve un dataframe con ambos coeficientes'''\n",
    "    DataFrame = armar_DF(x, y)\n",
    "    DF_bootstrap_coef = generar_bootstrap(DataFrame, repeticiones)\n",
    "\n",
    "    return DF_bootstrap_coef"
   ],
   "metadata": {},
   "execution_count": null,
   "outputs": [],
   "id": "8d9e7b5b-7873-48c7-8fa6-6414316d1729"
  },
  {
   "cell_type": "code",
   "source": [
    "def analizar_resultados(*args):\n",
    "    '''Se le pasa como argumento la columna del dataframe del que se quieren calcular los cuantiles y graficar\n",
    "    (en formato DF[['columna']]). Devuelve un dataframe con los cuantiles [0.025, 0.25, 0.5, 0.75, 0.975]\n",
    "    e imprime un gráfico de barras con la distribución de esos datos'''\n",
    "    cuantiles = sacar_cuantiles(*args)\n",
    "    graficos = hacer_graficos(*args)\n",
    "\n",
    "    return cuantiles"
   ],
   "metadata": {},
   "execution_count": null,
   "outputs": [],
   "id": "5051161e-14be-46c1-a5b1-0111d13d6ec4"
  },
  {
   "cell_type": "markdown",
   "source": [
    "# Definimos la función para predecir el resultado de y dado un x_nuevo:"
   ],
   "metadata": {},
   "id": "1c7c0955-33dd-4774-84c5-de7dbc404e1c"
  },
  {
   "cell_type": "code",
   "source": [
    "def predecir_y_nuevo(x_nuevo, DF_coeficientes):\n",
    "    '''Se le pasan como parámetros el x_nuevo cuyo y_predicho se quiere calcular y el dataframe que contiene\n",
    "    los coeficientes. Devuelve un dataframe que incluye los y_predichos'''\n",
    "\n",
    "    DF_y_predichos = DF_coeficientes.copy(deep=True)\n",
    "\n",
    "    DF_y_predichos = DF_y_predichos.assign(x_nuevo=x_nuevo, y_predicho=\"\")\n",
    "\n",
    "    # Iteramos sobre el dataframe para completar la columna y_predicho, aplicando la fórmula:\n",
    "    # y=b0+b1*x_nuevo\n",
    "    # En donde:\n",
    "    # y = y_predicho\n",
    "    # b0 = coef_const\n",
    "    # b1 = coef_x\n",
    "    # x_nuevo = x_nuevo\n",
    "\n",
    "    for fila in range(0, len(DF_y_predichos)):\n",
    "        DF_y_predichos.loc[DF_y_predichos.index.get_loc(fila), \"y_predicho\"] = \\\n",
    "            DF_y_predichos.loc[DF_y_predichos.index.get_loc(fila), \"coef_const\"] \\\n",
    "            + (DF_y_predichos.loc[DF_y_predichos.index.get_loc(fila), \"coef_x\"]\n",
    "               * DF_y_predichos.loc[DF_y_predichos.index.get_loc(fila), \"x_nuevo\"])\n",
    "\n",
    "    DF_y_predichos[\"y_predicho\"] = DF_y_predichos.y_predicho.astype(float)\n",
    "\n",
    "    return DF_y_predichos"
   ],
   "metadata": {},
   "execution_count": null,
   "outputs": [],
   "id": "4371b3b5-dcff-4382-9a26-1fce026a84fb"
  },
  {
   "cell_type": "markdown",
   "source": [
    "# Pruebas"
   ],
   "metadata": {},
   "id": "035c8534-88d6-4c48-adf9-ff491fb93964"
  },
  {
   "cell_type": "markdown",
   "source": [
    "## Prueba autos:"
   ],
   "metadata": {},
   "id": "67f9e76d-db37-4cbe-a0db-85975a769f3c"
  },
  {
   "cell_type": "code",
   "source": [
    "auto = pd.read_csv('data/auto.csv')\n",
    "x = auto['weight'].tolist()\n",
    "y = auto['price'].tolist()\n",
    "\n",
    "DF_coeficientes_variacion = encontrar_coeficientes(x, y, 10000)\n",
    "\n",
    "analisis_coeficientes = analizar_resultados(DF_coeficientes_variacion[['coef_x']], DF_coeficientes_variacion[['coef_const']])\n",
    "\n",
    "DF_y_predicho = predecir_y_nuevo(5432, DF_coeficientes_variacion)\n",
    "\n",
    "analisis_y_predicho = analizar_resultados(DF_y_predicho[['coef_x']], DF_y_predicho[['y_predicho']])"
   ],
   "metadata": {},
   "execution_count": null,
   "outputs": [],
   "id": "f68ac0b2-b0dc-47b1-89a6-9a14d4cbc806"
  },
  {
   "cell_type": "markdown",
   "source": [
    "## Prueba resultados electorales (comparación entre partidos):"
   ],
   "metadata": {},
   "id": "644de022-3f56-48dd-ae4d-93ad43ac7d58"
  },
  {
   "cell_type": "code",
   "source": [
    "resultados = pd.read_csv('data/resultados.csv')\n",
    "x = resultados['VOTOS_FDT_PRES'].tolist()\n",
    "y = resultados['VOTOS_FIT_PRES'].tolist()\n",
    "\n",
    "DF_coeficientes_variacion = encontrar_coeficientes(x, y, 10000)\n",
    "\n",
    "analisis_coeficientes = analizar_resultados(DF_coeficientes_variacion[['coef_x']], DF_coeficientes_variacion[['coef_const']])\n",
    "\n",
    "DF_y_predicho = predecir_y_nuevo(39765, DF_coeficientes_variacion)\n",
    "\n",
    "analisis_y_predicho = analizar_resultados(DF_y_predicho[['coef_x']], DF_y_predicho[['y_predicho']])"
   ],
   "metadata": {},
   "execution_count": null,
   "outputs": [],
   "id": "224e1872-485f-4d7a-bfd9-32e90a40fc39"
  },
  {
   "cell_type": "markdown",
   "source": [
    "## Prueba resultados electorales (cantidad de votos al FIT por curcuito según mediana de edad por circuito):"
   ],
   "metadata": {},
   "id": "7f30ce7b-8fdd-44ed-95ef-30a2ce97578f"
  },
  {
   "cell_type": "code",
   "source": [
    "mediana_edad_circuito = pd.read_csv(\n",
    "    \"data/mediana_edad_mas16.csv\")\n",
    "\n",
    "elecciones = pd.read_csv(\n",
    "    \"data/resultados.csv\")"
   ],
   "metadata": {},
   "execution_count": null,
   "outputs": [],
   "id": "76c31012-7a17-4e98-8213-190ffaff9cc1"
  },
  {
   "cell_type": "markdown",
   "source": [
    "## Construyo DF con mediana_edad_circuito y la columna de votos al FIT de elecciones"
   ],
   "metadata": {},
   "id": "52a91f66-eba9-476c-9ba8-85663151508e"
  },
  {
   "cell_type": "code",
   "source": [
    "corr_edad_pres_fit_circuito_mediana = pd.merge(mediana_edad_circuito, elecciones[[\"CODIGO_CIRCUITO\", \"VOTOS_FIT_PRES\",\n",
    "                                                                                  \"PORCENTAJE_FIT_PRES\"]],\n",
    "                                               on=\"CODIGO_CIRCUITO\")\n",
    "\n",
    "resultados_edad = corr_edad_pres_fit_circuito_mediana\n",
    "\n",
    "x = resultados_edad['MEDIANA_EDAD'].tolist()\n",
    "y = resultados_edad['VOTOS_FIT_PRES'].tolist()\n",
    "\n",
    "DF_coeficientes_variacion = encontrar_coeficientes(x, y, 10000)\n",
    "\n",
    "analisis_coeficientes = analizar_resultados(DF_coeficientes_variacion[['coef_x']],\n",
    "                                            DF_coeficientes_variacion[['coef_const']])\n"
   ],
   "metadata": {},
   "execution_count": null,
   "outputs": [],
   "id": "b615a690-e789-44b2-b97a-403c290c1c22"
  },
  {
   "cell_type": "markdown",
   "source": "### x_nueva = 18 años",
   "metadata": {},
   "id": "f5d8be0a-b735-4e92-8a56-3d7302a00c65"
  },
  {
   "cell_type": "code",
   "source": "DF_y_predicho_x_18 = predecir_y_nuevo(18, DF_coeficientes_variacion)\n\nanalisis_y_predicho_18 = analizar_resultados(DF_y_predicho_x_18[['coef_x']], DF_y_predicho_x_18[['y_predicho']])\n",
   "metadata": {},
   "execution_count": null,
   "outputs": [],
   "id": "f484086b-6a17-4571-855d-16fd18ef39a8"
  },
  {
   "cell_type": "markdown",
   "source": "### x_nueva = 85 años",
   "metadata": {},
   "id": "498fcf65-951a-4aae-a8e3-b0220ef75f47"
  },
  {
   "cell_type": "code",
   "source": "DF_y_predicho_x_85 = predecir_y_nuevo(85, DF_coeficientes_variacion)\n\nanalisis_y_predicho_85 = analizar_resultados(DF_y_predicho_x_85[['coef_x']], DF_y_predicho_x_85[['y_predicho']])\n",
   "metadata": {},
   "execution_count": null,
   "outputs": [],
   "id": "48ce5551-c636-403a-9891-070fb63483c2"
  },
  {
   "cell_type": "markdown",
   "source": "### x_nueva = 30 años",
   "metadata": {},
   "id": "bf74dee7-5260-40ee-9c21-0ffd089d51a5"
  },
  {
   "cell_type": "code",
   "source": "DF_y_predicho_x_30 = predecir_y_nuevo(30, DF_coeficientes_variacion)\n\nanalisis_y_predicho_30 = analizar_resultados(DF_y_predicho_x_30[['coef_x']], DF_y_predicho_x_30[['y_predicho']])\n",
   "metadata": {},
   "execution_count": null,
   "outputs": [],
   "id": "04889abb-2e0b-4641-8345-f43174026b21"
  },
  {
   "cell_type": "markdown",
   "source": "### x_nueva = 45 años",
   "metadata": {},
   "id": "148b60e2-068f-4a10-8de1-4951c28aa11b"
  },
  {
   "cell_type": "code",
   "source": "DF_y_predicho_x_45 = predecir_y_nuevo(45, DF_coeficientes_variacion)\n\nanalisis_y_predicho_45 = analizar_resultados(DF_y_predicho_x_45[['coef_x']], DF_y_predicho_x_45[['y_predicho']])\n",
   "metadata": {},
   "execution_count": null,
   "outputs": [],
   "id": "50e28fc1-57bd-488e-9075-9b4d1e3c7241"
  }
 ]
}