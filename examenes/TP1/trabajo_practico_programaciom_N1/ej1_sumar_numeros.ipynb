{
 "cells": [
  {
   "cell_type": "code",
   "execution_count": null,
   "source": [
    "#1. Declarar una función que, dado un número x, sea capaz de sumar todos los números\n",
    "#menores de x que sean múltiplos de 2 excepto aquellos que sean también múltiplos\n",
    "#de 4. (1 punto) Por ejemplo: suma (10) = 2 + 6 + 10 = 18\n",
    "\n",
    "def suma_numeros_menores_x(numero):\n",
    "    acumulador = 0\n",
    "    for num in range(1, numero + 1): #numero+1 para que incluye al ultimo\n",
    "        if num % 2 == 0 and not(num % 4 == 0): #si el numero es divisor de 2, el residuo es 0, y no divisor de 4\n",
    "            acumulador = acumulador + num #0+i y despues reemplaza a 0 por el proximo numero cuando se cumpla condicion de arriba\n",
    "    print(\"El resultado es: \", acumulador)\n",
    "        \n",
    "numero=int(input(\"Ingrese número: \"))\n",
    "suma_numeros_menores_x(numero)"
   ],
   "outputs": [],
   "metadata": {}
  }
 ],
 "nbformat": 4,
 "nbformat_minor": 2,
 "metadata": {
  "language_info": {
   "codemirror_mode": {
    "name": "ipython",
    "version": 3
   },
   "file_extension": ".py",
   "mimetype": "text/x-python",
   "name": "python",
   "nbconvert_exporter": "python",
   "pygments_lexer": "ipython3",
   "version": "3.8.2"
  },
  "orig_nbformat": 4,
  "kernelspec": {
   "name": "python3",
   "display_name": "Python 3.8.2 32-bit"
  },
  "interpreter": {
   "hash": "5ec7dc23e90a4ab0e6b9f1ee4a31032a80c9149cb977a61e1c49144f703e2d67"
  }
 }
}