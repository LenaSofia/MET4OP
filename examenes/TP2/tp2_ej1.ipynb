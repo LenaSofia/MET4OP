{
 "cells": [
  {
   "cell_type": "markdown",
   "id": "183a9731",
   "metadata": {
    "slideshow": {
     "slide_type": "slide"
    }
   },
   "source": [
    "# Análisis electoral del *Frente de Izquierda y los Trabajadores - Unidad*\n",
    "\n",
    "## MET4OP - T.P n° 2 - Ejercicio 1 - Grupo 2"
   ]
  },
  {
   "cell_type": "markdown",
   "id": "68b71390",
   "metadata": {
    "slideshow": {
     "slide_type": "slide"
    }
   },
   "source": [
    "## 1.1\n",
    "### Resultados electorales por Circuito Electoral\n",
    "#### Categoría: Presidente y VIcepresidente"
   ]
  },
  {
   "cell_type": "code",
   "execution_count": 17,
   "id": "556ca514",
   "metadata": {
    "slideshow": {
     "slide_type": "skip"
    }
   },
   "outputs": [],
   "source": [
    "import numpy as np\n",
    "import pandas as pd\n",
    "import os\n",
    "import matplotlib.pyplot as plt\n",
    "import seaborn as sns"
   ]
  },
  {
   "cell_type": "code",
   "execution_count": 18,
   "id": "71dfa725",
   "metadata": {
    "slideshow": {
     "slide_type": "skip"
    }
   },
   "outputs": [],
   "source": [
    "resultCABA = pd.read_csv (                          # Resultados totales\n",
    "    \"datos_agrup.csv\"\n",
    ")"
   ]
  },
  {
   "cell_type": "code",
   "execution_count": 19,
   "id": "f2d969a1",
   "metadata": {
    "slideshow": {
     "slide_type": "subslide"
    }
   },
   "outputs": [],
   "source": [
    "def porcentaje_circuito(result_total, result_agrupacion):\n",
    "    \"\"\"\n",
    "    Función que a partir de tablas con el caro en disputa y una agrupación en específico, \n",
    "    calcula el porcentaje por circuito electoral\n",
    "    \"\"\"\n",
    "\n",
    "    # Primero suma la cantidad de votos totales por circuito\n",
    "    result_total_acotado = result_total[[\"CODIGO_CIRCUITO\", \"CODIGO_MESA\", \"VOTOS_AGRUPACION\", \"NOMBRE_REGION\", \"NOMBRE_AGRUPACION\"]]\n",
    "\n",
    "    result_total_circuito = (result_total_acotado.groupby([\"NOMBRE_REGION\", \"CODIGO_CIRCUITO\"]).sum())\n",
    "\n",
    "    result_total_circuito = result_total_circuito.rename(columns={\"VOTOS_AGRUPACION\": \"VOTOS_TOTALES\"})\n",
    "\n",
    "\n",
    "    # Luego suma la cantidad de votos de determinada agrupacion por circuito\n",
    "    result_agrupacion_acotado = result_agrupacion[[\"CODIGO_CIRCUITO\", \"CODIGO_MESA\", \"VOTOS_AGRUPACION\", \"NOMBRE_REGION\", \"NOMBRE_AGRUPACION\"]]\n",
    "\n",
    "    result_agrupacion_circuito = (result_agrupacion_acotado.groupby([\"NOMBRE_REGION\", \"CODIGO_CIRCUITO\"]).sum())\n",
    "\n",
    "    # Luego hace un merge, y calcula el porcentaje diviendo votos de la agrupacion por totales\n",
    "    porcentaje_circuito = pd.merge(result_total_circuito, result_agrupacion_circuito, on=[\"NOMBRE_REGION\",\"CODIGO_CIRCUITO\"])\n",
    "\n",
    "    porcentaje_circuito[\"PORCENTAJE_AGRUPACION\"] = ((porcentaje_circuito[\"VOTOS_AGRUPACION\"] / porcentaje_circuito[\"VOTOS_TOTALES\"]) * 100).round(2)\n",
    "\n",
    "\n",
    "    return porcentaje_circuito"
   ]
  },
  {
   "cell_type": "code",
   "execution_count": 20,
   "id": "e9367685",
   "metadata": {
    "slideshow": {
     "slide_type": "subslide"
    }
   },
   "outputs": [],
   "source": [
    "#%%\n",
    "# Resultados del FIT en cada mesa solo para Presidente\n",
    "resultCABA_pres_fit = resultCABA[(resultCABA[\"NOMBRE_CATEGORIA\"] == \"Presidente y Vicepresidente de la República\") & (resultCABA[\"NOMBRE_AGRUPACION\"] == \"FRENTE DE IZQUIERDA Y DE TRABAJADORES - UNIDAD\")]\n",
    "\n",
    "\n",
    "#%%\n",
    "# Resultados totales en cada mesa solo para Presidente\n",
    "resultCABA_pres_total = resultCABA[resultCABA[\"NOMBRE_CATEGORIA\"] == \"Presidente y Vicepresidente de la República\"]\n"
   ]
  },
  {
   "cell_type": "markdown",
   "id": "1f0964cc",
   "metadata": {
    "slideshow": {
     "slide_type": "slide"
    }
   },
   "source": [
    "#### Porcentaje de voto por Circuito"
   ]
  },
  {
   "cell_type": "code",
   "execution_count": 21,
   "id": "09e1c592",
   "metadata": {
    "slideshow": {
     "slide_type": "skip"
    }
   },
   "outputs": [],
   "source": [
    "porc_pres_circuito_fit = porcentaje_circuito(resultCABA_pres_total, resultCABA_pres_fit)"
   ]
  },
  {
   "cell_type": "code",
   "execution_count": 22,
   "id": "5851fe37",
   "metadata": {
    "slideshow": {
     "slide_type": "-"
    }
   },
   "outputs": [
    {
     "data": {
      "text/html": [
       "<div>\n",
       "<style scoped>\n",
       "    .dataframe tbody tr th:only-of-type {\n",
       "        vertical-align: middle;\n",
       "    }\n",
       "\n",
       "    .dataframe tbody tr th {\n",
       "        vertical-align: top;\n",
       "    }\n",
       "\n",
       "    .dataframe thead th {\n",
       "        text-align: right;\n",
       "    }\n",
       "</style>\n",
       "<table border=\"1\" class=\"dataframe\">\n",
       "  <thead>\n",
       "    <tr style=\"text-align: right;\">\n",
       "      <th></th>\n",
       "      <th></th>\n",
       "      <th>VOTOS_TOTALES</th>\n",
       "      <th>VOTOS_AGRUPACION</th>\n",
       "      <th>PORCENTAJE_AGRUPACION</th>\n",
       "    </tr>\n",
       "    <tr>\n",
       "      <th>NOMBRE_REGION</th>\n",
       "      <th>CODIGO_CIRCUITO</th>\n",
       "      <th></th>\n",
       "      <th></th>\n",
       "      <th></th>\n",
       "    </tr>\n",
       "  </thead>\n",
       "  <tbody>\n",
       "    <tr>\n",
       "      <th rowspan=\"5\" valign=\"top\">COMUNA 01</th>\n",
       "      <th>1001000001</th>\n",
       "      <td>7137</td>\n",
       "      <td>343</td>\n",
       "      <td>4.81</td>\n",
       "    </tr>\n",
       "    <tr>\n",
       "      <th>1001000002</th>\n",
       "      <td>6643</td>\n",
       "      <td>335</td>\n",
       "      <td>5.04</td>\n",
       "    </tr>\n",
       "    <tr>\n",
       "      <th>1001000003</th>\n",
       "      <td>3377</td>\n",
       "      <td>31</td>\n",
       "      <td>0.92</td>\n",
       "    </tr>\n",
       "    <tr>\n",
       "      <th>1001000005</th>\n",
       "      <td>5402</td>\n",
       "      <td>176</td>\n",
       "      <td>3.26</td>\n",
       "    </tr>\n",
       "    <tr>\n",
       "      <th>1001000006</th>\n",
       "      <td>11110</td>\n",
       "      <td>148</td>\n",
       "      <td>1.33</td>\n",
       "    </tr>\n",
       "    <tr>\n",
       "      <th>...</th>\n",
       "      <th>...</th>\n",
       "      <td>...</td>\n",
       "      <td>...</td>\n",
       "      <td>...</td>\n",
       "    </tr>\n",
       "    <tr>\n",
       "      <th rowspan=\"5\" valign=\"top\">COMUNA 15</th>\n",
       "      <th>1015000163</th>\n",
       "      <td>9538</td>\n",
       "      <td>444</td>\n",
       "      <td>4.66</td>\n",
       "    </tr>\n",
       "    <tr>\n",
       "      <th>1015000164</th>\n",
       "      <td>8654</td>\n",
       "      <td>455</td>\n",
       "      <td>5.26</td>\n",
       "    </tr>\n",
       "    <tr>\n",
       "      <th>1015000165</th>\n",
       "      <td>15832</td>\n",
       "      <td>700</td>\n",
       "      <td>4.42</td>\n",
       "    </tr>\n",
       "    <tr>\n",
       "      <th>1015000166</th>\n",
       "      <td>13176</td>\n",
       "      <td>588</td>\n",
       "      <td>4.46</td>\n",
       "    </tr>\n",
       "    <tr>\n",
       "      <th>1015000167</th>\n",
       "      <td>10519</td>\n",
       "      <td>456</td>\n",
       "      <td>4.34</td>\n",
       "    </tr>\n",
       "  </tbody>\n",
       "</table>\n",
       "<p>166 rows × 3 columns</p>\n",
       "</div>"
      ],
      "text/plain": [
       "                               VOTOS_TOTALES  VOTOS_AGRUPACION  \\\n",
       "NOMBRE_REGION CODIGO_CIRCUITO                                    \n",
       "COMUNA 01     1001000001                7137               343   \n",
       "              1001000002                6643               335   \n",
       "              1001000003                3377                31   \n",
       "              1001000005                5402               176   \n",
       "              1001000006               11110               148   \n",
       "...                                      ...               ...   \n",
       "COMUNA 15     1015000163                9538               444   \n",
       "              1015000164                8654               455   \n",
       "              1015000165               15832               700   \n",
       "              1015000166               13176               588   \n",
       "              1015000167               10519               456   \n",
       "\n",
       "                               PORCENTAJE_AGRUPACION  \n",
       "NOMBRE_REGION CODIGO_CIRCUITO                         \n",
       "COMUNA 01     1001000001                        4.81  \n",
       "              1001000002                        5.04  \n",
       "              1001000003                        0.92  \n",
       "              1001000005                        3.26  \n",
       "              1001000006                        1.33  \n",
       "...                                              ...  \n",
       "COMUNA 15     1015000163                        4.66  \n",
       "              1015000164                        5.26  \n",
       "              1015000165                        4.42  \n",
       "              1015000166                        4.46  \n",
       "              1015000167                        4.34  \n",
       "\n",
       "[166 rows x 3 columns]"
      ]
     },
     "execution_count": 22,
     "metadata": {},
     "output_type": "execute_result"
    }
   ],
   "source": [
    "porc_pres_circuito_fit"
   ]
  },
  {
   "cell_type": "markdown",
   "id": "a1e157a7",
   "metadata": {
    "slideshow": {
     "slide_type": "slide"
    }
   },
   "source": [
    "#### Los circuitos con valores que superan el cuarto cuantil "
   ]
  },
  {
   "cell_type": "code",
   "execution_count": 23,
   "id": "c53545c8",
   "metadata": {
    "slideshow": {
     "slide_type": "skip"
    }
   },
   "outputs": [],
   "source": [
    "porc_pres_circuito_fit_q75 = porc_pres_circuito_fit.copy()\n",
    "porc_pres_circuito_fit_q75\n",
    "porc_pres_circuito_fit_q75[\"QUANTIL\"] = pd.qcut(porc_pres_circuito_fit_q75[\"PORCENTAJE_AGRUPACION\"],q=4, labels= False)"
   ]
  },
  {
   "cell_type": "code",
   "execution_count": 24,
   "id": "a597b40d",
   "metadata": {
    "slideshow": {
     "slide_type": "-"
    }
   },
   "outputs": [
    {
     "data": {
      "text/html": [
       "<div>\n",
       "<style scoped>\n",
       "    .dataframe tbody tr th:only-of-type {\n",
       "        vertical-align: middle;\n",
       "    }\n",
       "\n",
       "    .dataframe tbody tr th {\n",
       "        vertical-align: top;\n",
       "    }\n",
       "\n",
       "    .dataframe thead th {\n",
       "        text-align: right;\n",
       "    }\n",
       "</style>\n",
       "<table border=\"1\" class=\"dataframe\">\n",
       "  <thead>\n",
       "    <tr style=\"text-align: right;\">\n",
       "      <th></th>\n",
       "      <th></th>\n",
       "      <th>VOTOS_TOTALES</th>\n",
       "      <th>VOTOS_AGRUPACION</th>\n",
       "      <th>PORCENTAJE_AGRUPACION</th>\n",
       "      <th>QUANTIL</th>\n",
       "    </tr>\n",
       "    <tr>\n",
       "      <th>NOMBRE_REGION</th>\n",
       "      <th>CODIGO_CIRCUITO</th>\n",
       "      <th></th>\n",
       "      <th></th>\n",
       "      <th></th>\n",
       "      <th></th>\n",
       "    </tr>\n",
       "  </thead>\n",
       "  <tbody>\n",
       "    <tr>\n",
       "      <th rowspan=\"2\" valign=\"top\">COMUNA 15</th>\n",
       "      <th>1015000164</th>\n",
       "      <td>8654</td>\n",
       "      <td>455</td>\n",
       "      <td>5.26</td>\n",
       "      <td>3</td>\n",
       "    </tr>\n",
       "    <tr>\n",
       "      <th>1015000162</th>\n",
       "      <td>12689</td>\n",
       "      <td>658</td>\n",
       "      <td>5.19</td>\n",
       "      <td>3</td>\n",
       "    </tr>\n",
       "    <tr>\n",
       "      <th>COMUNA 05</th>\n",
       "      <th>1005000059</th>\n",
       "      <td>10370</td>\n",
       "      <td>537</td>\n",
       "      <td>5.18</td>\n",
       "      <td>3</td>\n",
       "    </tr>\n",
       "    <tr>\n",
       "      <th>COMUNA 03</th>\n",
       "      <th>1003000036</th>\n",
       "      <td>6242</td>\n",
       "      <td>322</td>\n",
       "      <td>5.16</td>\n",
       "      <td>3</td>\n",
       "    </tr>\n",
       "    <tr>\n",
       "      <th>COMUNA 01</th>\n",
       "      <th>1001000002</th>\n",
       "      <td>6643</td>\n",
       "      <td>335</td>\n",
       "      <td>5.04</td>\n",
       "      <td>3</td>\n",
       "    </tr>\n",
       "    <tr>\n",
       "      <th>COMUNA 05</th>\n",
       "      <th>1005000067</th>\n",
       "      <td>15739</td>\n",
       "      <td>785</td>\n",
       "      <td>4.99</td>\n",
       "      <td>3</td>\n",
       "    </tr>\n",
       "    <tr>\n",
       "      <th>COMUNA 06</th>\n",
       "      <th>1006000072</th>\n",
       "      <td>10797</td>\n",
       "      <td>533</td>\n",
       "      <td>4.94</td>\n",
       "      <td>3</td>\n",
       "    </tr>\n",
       "    <tr>\n",
       "      <th>COMUNA 15</th>\n",
       "      <th>1015000160</th>\n",
       "      <td>17775</td>\n",
       "      <td>874</td>\n",
       "      <td>4.92</td>\n",
       "      <td>3</td>\n",
       "    </tr>\n",
       "    <tr>\n",
       "      <th>COMUNA 03</th>\n",
       "      <th>1003000041</th>\n",
       "      <td>13765</td>\n",
       "      <td>676</td>\n",
       "      <td>4.91</td>\n",
       "      <td>3</td>\n",
       "    </tr>\n",
       "    <tr>\n",
       "      <th>COMUNA 10</th>\n",
       "      <th>1010000109</th>\n",
       "      <td>15192</td>\n",
       "      <td>738</td>\n",
       "      <td>4.86</td>\n",
       "      <td>3</td>\n",
       "    </tr>\n",
       "    <tr>\n",
       "      <th>COMUNA 15</th>\n",
       "      <th>1015000161</th>\n",
       "      <td>15639</td>\n",
       "      <td>759</td>\n",
       "      <td>4.85</td>\n",
       "      <td>3</td>\n",
       "    </tr>\n",
       "    <tr>\n",
       "      <th>COMUNA 10</th>\n",
       "      <th>1010000108</th>\n",
       "      <td>9711</td>\n",
       "      <td>470</td>\n",
       "      <td>4.84</td>\n",
       "      <td>3</td>\n",
       "    </tr>\n",
       "    <tr>\n",
       "      <th>COMUNA 06</th>\n",
       "      <th>1006000073</th>\n",
       "      <td>13841</td>\n",
       "      <td>670</td>\n",
       "      <td>4.84</td>\n",
       "      <td>3</td>\n",
       "    </tr>\n",
       "    <tr>\n",
       "      <th>COMUNA 05</th>\n",
       "      <th>1005000065</th>\n",
       "      <td>10511</td>\n",
       "      <td>508</td>\n",
       "      <td>4.83</td>\n",
       "      <td>3</td>\n",
       "    </tr>\n",
       "    <tr>\n",
       "      <th rowspan=\"2\" valign=\"top\">COMUNA 01</th>\n",
       "      <th>1001000016</th>\n",
       "      <td>5959</td>\n",
       "      <td>287</td>\n",
       "      <td>4.82</td>\n",
       "      <td>3</td>\n",
       "    </tr>\n",
       "    <tr>\n",
       "      <th>1001000001</th>\n",
       "      <td>7137</td>\n",
       "      <td>343</td>\n",
       "      <td>4.81</td>\n",
       "      <td>3</td>\n",
       "    </tr>\n",
       "    <tr>\n",
       "      <th>COMUNA 04</th>\n",
       "      <th>1004000044</th>\n",
       "      <td>7296</td>\n",
       "      <td>351</td>\n",
       "      <td>4.81</td>\n",
       "      <td>3</td>\n",
       "    </tr>\n",
       "    <tr>\n",
       "      <th rowspan=\"2\" valign=\"top\">COMUNA 05</th>\n",
       "      <th>1005000066</th>\n",
       "      <td>10201</td>\n",
       "      <td>490</td>\n",
       "      <td>4.80</td>\n",
       "      <td>3</td>\n",
       "    </tr>\n",
       "    <tr>\n",
       "      <th>1005000063</th>\n",
       "      <td>15545</td>\n",
       "      <td>741</td>\n",
       "      <td>4.77</td>\n",
       "      <td>3</td>\n",
       "    </tr>\n",
       "    <tr>\n",
       "      <th>COMUNA 15</th>\n",
       "      <th>1015000159</th>\n",
       "      <td>9436</td>\n",
       "      <td>450</td>\n",
       "      <td>4.77</td>\n",
       "      <td>3</td>\n",
       "    </tr>\n",
       "    <tr>\n",
       "      <th>COMUNA 05</th>\n",
       "      <th>1005000058</th>\n",
       "      <td>10885</td>\n",
       "      <td>518</td>\n",
       "      <td>4.76</td>\n",
       "      <td>3</td>\n",
       "    </tr>\n",
       "    <tr>\n",
       "      <th rowspan=\"2\" valign=\"top\">COMUNA 04</th>\n",
       "      <th>1004000049</th>\n",
       "      <td>9162</td>\n",
       "      <td>434</td>\n",
       "      <td>4.74</td>\n",
       "      <td>3</td>\n",
       "    </tr>\n",
       "    <tr>\n",
       "      <th>1004000043</th>\n",
       "      <td>9222</td>\n",
       "      <td>436</td>\n",
       "      <td>4.73</td>\n",
       "      <td>3</td>\n",
       "    </tr>\n",
       "    <tr>\n",
       "      <th>COMUNA 05</th>\n",
       "      <th>1005000060</th>\n",
       "      <td>12272</td>\n",
       "      <td>579</td>\n",
       "      <td>4.72</td>\n",
       "      <td>3</td>\n",
       "    </tr>\n",
       "    <tr>\n",
       "      <th>COMUNA 03</th>\n",
       "      <th>1003000035</th>\n",
       "      <td>9320</td>\n",
       "      <td>435</td>\n",
       "      <td>4.67</td>\n",
       "      <td>3</td>\n",
       "    </tr>\n",
       "    <tr>\n",
       "      <th>COMUNA 11</th>\n",
       "      <th>1011000115</th>\n",
       "      <td>9425</td>\n",
       "      <td>440</td>\n",
       "      <td>4.67</td>\n",
       "      <td>3</td>\n",
       "    </tr>\n",
       "    <tr>\n",
       "      <th>COMUNA 15</th>\n",
       "      <th>1015000163</th>\n",
       "      <td>9538</td>\n",
       "      <td>444</td>\n",
       "      <td>4.66</td>\n",
       "      <td>3</td>\n",
       "    </tr>\n",
       "    <tr>\n",
       "      <th>COMUNA 06</th>\n",
       "      <th>1006000068</th>\n",
       "      <td>15756</td>\n",
       "      <td>732</td>\n",
       "      <td>4.65</td>\n",
       "      <td>3</td>\n",
       "    </tr>\n",
       "    <tr>\n",
       "      <th>COMUNA 15</th>\n",
       "      <th>1015000158</th>\n",
       "      <td>15289</td>\n",
       "      <td>710</td>\n",
       "      <td>4.64</td>\n",
       "      <td>3</td>\n",
       "    </tr>\n",
       "    <tr>\n",
       "      <th rowspan=\"2\" valign=\"top\">COMUNA 04</th>\n",
       "      <th>1004000045</th>\n",
       "      <td>5354</td>\n",
       "      <td>248</td>\n",
       "      <td>4.63</td>\n",
       "      <td>3</td>\n",
       "    </tr>\n",
       "    <tr>\n",
       "      <th>1004000054</th>\n",
       "      <td>11533</td>\n",
       "      <td>528</td>\n",
       "      <td>4.58</td>\n",
       "      <td>3</td>\n",
       "    </tr>\n",
       "    <tr>\n",
       "      <th>COMUNA 09</th>\n",
       "      <th>1009000092</th>\n",
       "      <td>10706</td>\n",
       "      <td>489</td>\n",
       "      <td>4.57</td>\n",
       "      <td>3</td>\n",
       "    </tr>\n",
       "    <tr>\n",
       "      <th>COMUNA 04</th>\n",
       "      <th>1004000046</th>\n",
       "      <td>4894</td>\n",
       "      <td>223</td>\n",
       "      <td>4.56</td>\n",
       "      <td>3</td>\n",
       "    </tr>\n",
       "    <tr>\n",
       "      <th>COMUNA 01</th>\n",
       "      <th>1001000013</th>\n",
       "      <td>8908</td>\n",
       "      <td>406</td>\n",
       "      <td>4.56</td>\n",
       "      <td>3</td>\n",
       "    </tr>\n",
       "    <tr>\n",
       "      <th>COMUNA 10</th>\n",
       "      <th>1010000111</th>\n",
       "      <td>8598</td>\n",
       "      <td>390</td>\n",
       "      <td>4.54</td>\n",
       "      <td>3</td>\n",
       "    </tr>\n",
       "    <tr>\n",
       "      <th>COMUNA 04</th>\n",
       "      <th>1004000050</th>\n",
       "      <td>11010</td>\n",
       "      <td>498</td>\n",
       "      <td>4.52</td>\n",
       "      <td>3</td>\n",
       "    </tr>\n",
       "    <tr>\n",
       "      <th>COMUNA 11</th>\n",
       "      <th>1011000116</th>\n",
       "      <td>13646</td>\n",
       "      <td>615</td>\n",
       "      <td>4.51</td>\n",
       "      <td>3</td>\n",
       "    </tr>\n",
       "    <tr>\n",
       "      <th>COMUNA 14</th>\n",
       "      <th>1014000156</th>\n",
       "      <td>7567</td>\n",
       "      <td>341</td>\n",
       "      <td>4.51</td>\n",
       "      <td>3</td>\n",
       "    </tr>\n",
       "    <tr>\n",
       "      <th rowspan=\"2\" valign=\"top\">COMUNA 05</th>\n",
       "      <th>1005000064</th>\n",
       "      <td>16707</td>\n",
       "      <td>754</td>\n",
       "      <td>4.51</td>\n",
       "      <td>3</td>\n",
       "    </tr>\n",
       "    <tr>\n",
       "      <th>1005000062</th>\n",
       "      <td>8030</td>\n",
       "      <td>362</td>\n",
       "      <td>4.51</td>\n",
       "      <td>3</td>\n",
       "    </tr>\n",
       "    <tr>\n",
       "      <th>COMUNA 09</th>\n",
       "      <th>1009000094</th>\n",
       "      <td>8441</td>\n",
       "      <td>380</td>\n",
       "      <td>4.50</td>\n",
       "      <td>3</td>\n",
       "    </tr>\n",
       "    <tr>\n",
       "      <th>COMUNA 03</th>\n",
       "      <th>1003000033</th>\n",
       "      <td>6477</td>\n",
       "      <td>290</td>\n",
       "      <td>4.48</td>\n",
       "      <td>3</td>\n",
       "    </tr>\n",
       "  </tbody>\n",
       "</table>\n",
       "</div>"
      ],
      "text/plain": [
       "                               VOTOS_TOTALES  VOTOS_AGRUPACION  \\\n",
       "NOMBRE_REGION CODIGO_CIRCUITO                                    \n",
       "COMUNA 15     1015000164                8654               455   \n",
       "              1015000162               12689               658   \n",
       "COMUNA 05     1005000059               10370               537   \n",
       "COMUNA 03     1003000036                6242               322   \n",
       "COMUNA 01     1001000002                6643               335   \n",
       "COMUNA 05     1005000067               15739               785   \n",
       "COMUNA 06     1006000072               10797               533   \n",
       "COMUNA 15     1015000160               17775               874   \n",
       "COMUNA 03     1003000041               13765               676   \n",
       "COMUNA 10     1010000109               15192               738   \n",
       "COMUNA 15     1015000161               15639               759   \n",
       "COMUNA 10     1010000108                9711               470   \n",
       "COMUNA 06     1006000073               13841               670   \n",
       "COMUNA 05     1005000065               10511               508   \n",
       "COMUNA 01     1001000016                5959               287   \n",
       "              1001000001                7137               343   \n",
       "COMUNA 04     1004000044                7296               351   \n",
       "COMUNA 05     1005000066               10201               490   \n",
       "              1005000063               15545               741   \n",
       "COMUNA 15     1015000159                9436               450   \n",
       "COMUNA 05     1005000058               10885               518   \n",
       "COMUNA 04     1004000049                9162               434   \n",
       "              1004000043                9222               436   \n",
       "COMUNA 05     1005000060               12272               579   \n",
       "COMUNA 03     1003000035                9320               435   \n",
       "COMUNA 11     1011000115                9425               440   \n",
       "COMUNA 15     1015000163                9538               444   \n",
       "COMUNA 06     1006000068               15756               732   \n",
       "COMUNA 15     1015000158               15289               710   \n",
       "COMUNA 04     1004000045                5354               248   \n",
       "              1004000054               11533               528   \n",
       "COMUNA 09     1009000092               10706               489   \n",
       "COMUNA 04     1004000046                4894               223   \n",
       "COMUNA 01     1001000013                8908               406   \n",
       "COMUNA 10     1010000111                8598               390   \n",
       "COMUNA 04     1004000050               11010               498   \n",
       "COMUNA 11     1011000116               13646               615   \n",
       "COMUNA 14     1014000156                7567               341   \n",
       "COMUNA 05     1005000064               16707               754   \n",
       "              1005000062                8030               362   \n",
       "COMUNA 09     1009000094                8441               380   \n",
       "COMUNA 03     1003000033                6477               290   \n",
       "\n",
       "                               PORCENTAJE_AGRUPACION  QUANTIL  \n",
       "NOMBRE_REGION CODIGO_CIRCUITO                                  \n",
       "COMUNA 15     1015000164                        5.26        3  \n",
       "              1015000162                        5.19        3  \n",
       "COMUNA 05     1005000059                        5.18        3  \n",
       "COMUNA 03     1003000036                        5.16        3  \n",
       "COMUNA 01     1001000002                        5.04        3  \n",
       "COMUNA 05     1005000067                        4.99        3  \n",
       "COMUNA 06     1006000072                        4.94        3  \n",
       "COMUNA 15     1015000160                        4.92        3  \n",
       "COMUNA 03     1003000041                        4.91        3  \n",
       "COMUNA 10     1010000109                        4.86        3  \n",
       "COMUNA 15     1015000161                        4.85        3  \n",
       "COMUNA 10     1010000108                        4.84        3  \n",
       "COMUNA 06     1006000073                        4.84        3  \n",
       "COMUNA 05     1005000065                        4.83        3  \n",
       "COMUNA 01     1001000016                        4.82        3  \n",
       "              1001000001                        4.81        3  \n",
       "COMUNA 04     1004000044                        4.81        3  \n",
       "COMUNA 05     1005000066                        4.80        3  \n",
       "              1005000063                        4.77        3  \n",
       "COMUNA 15     1015000159                        4.77        3  \n",
       "COMUNA 05     1005000058                        4.76        3  \n",
       "COMUNA 04     1004000049                        4.74        3  \n",
       "              1004000043                        4.73        3  \n",
       "COMUNA 05     1005000060                        4.72        3  \n",
       "COMUNA 03     1003000035                        4.67        3  \n",
       "COMUNA 11     1011000115                        4.67        3  \n",
       "COMUNA 15     1015000163                        4.66        3  \n",
       "COMUNA 06     1006000068                        4.65        3  \n",
       "COMUNA 15     1015000158                        4.64        3  \n",
       "COMUNA 04     1004000045                        4.63        3  \n",
       "              1004000054                        4.58        3  \n",
       "COMUNA 09     1009000092                        4.57        3  \n",
       "COMUNA 04     1004000046                        4.56        3  \n",
       "COMUNA 01     1001000013                        4.56        3  \n",
       "COMUNA 10     1010000111                        4.54        3  \n",
       "COMUNA 04     1004000050                        4.52        3  \n",
       "COMUNA 11     1011000116                        4.51        3  \n",
       "COMUNA 14     1014000156                        4.51        3  \n",
       "COMUNA 05     1005000064                        4.51        3  \n",
       "              1005000062                        4.51        3  \n",
       "COMUNA 09     1009000094                        4.50        3  \n",
       "COMUNA 03     1003000033                        4.48        3  "
      ]
     },
     "execution_count": 24,
     "metadata": {},
     "output_type": "execute_result"
    }
   ],
   "source": [
    "porc_pres_circuito_fit_q75[porc_pres_circuito_fit_q75[\"QUANTIL\"] == 3].sort_values(by=[\"PORCENTAJE_AGRUPACION\"], ascending= False) "
   ]
  },
  {
   "cell_type": "markdown",
   "id": "058a1a52",
   "metadata": {
    "slideshow": {
     "slide_type": "slide"
    }
   },
   "source": [
    "## Análisis 1.1:\n",
    "### Estos circuitos con mayor porcentaje son los que se debe priorizar a la hora de focalizar la búsqueda de votos, para acercarse al objetivo de convertirse en tercera fuerza a nivel presidencial\n",
    "#### Pero vamos a continuar complejizando el análisis"
   ]
  },
  {
   "cell_type": "markdown",
   "id": "0ece8b81",
   "metadata": {
    "slideshow": {
     "slide_type": "slide"
    }
   },
   "source": [
    "## 1.2\n",
    "### El mismo procedimiento, pero para comunas"
   ]
  },
  {
   "cell_type": "code",
   "execution_count": 25,
   "id": "9ecb9589",
   "metadata": {
    "slideshow": {
     "slide_type": "subslide"
    }
   },
   "outputs": [],
   "source": [
    "def porcentaje_comuna(porcentaje_circuito):\n",
    "    \"\"\"\n",
    "    Función que en base al porcentaje por circuito\n",
    "    calcula el porcentaje por comuna\n",
    "    \"\"\"\n",
    "    porcentaje_comuna = (porcentaje_circuito.groupby(\"NOMBRE_REGION\")[\"VOTOS_TOTALES\", \"VOTOS_AGRUPACION\"].sum())\n",
    "    porcentaje_comuna[\"PORCENTAJE_AGRUPACION\"] = ((porcentaje_comuna[\"VOTOS_AGRUPACION\"] / porcentaje_comuna[\"VOTOS_TOTALES\"] * 100).round(2))\n",
    "\n",
    "    return porcentaje_comuna"
   ]
  },
  {
   "cell_type": "markdown",
   "id": "98f9a929",
   "metadata": {
    "slideshow": {
     "slide_type": "slide"
    }
   },
   "source": [
    "#### Porcentaje de voto por Comunas"
   ]
  },
  {
   "cell_type": "code",
   "execution_count": 26,
   "id": "ca22807f",
   "metadata": {
    "slideshow": {
     "slide_type": "skip"
    }
   },
   "outputs": [
    {
     "name": "stderr",
     "output_type": "stream",
     "text": [
      "C:\\Users\\Usuario\\AppData\\Local\\Temp/ipykernel_1392/3274835435.py:6: FutureWarning: Indexing with multiple keys (implicitly converted to a tuple of keys) will be deprecated, use a list instead.\n",
      "  porcentaje_comuna = (porcentaje_circuito.groupby(\"NOMBRE_REGION\")[\"VOTOS_TOTALES\", \"VOTOS_AGRUPACION\"].sum())\n"
     ]
    }
   ],
   "source": [
    "porc_pres_comuna_fit = porcentaje_comuna(porc_pres_circuito_fit)"
   ]
  },
  {
   "cell_type": "code",
   "execution_count": 27,
   "id": "cbae5a8c",
   "metadata": {
    "slideshow": {
     "slide_type": "slide"
    }
   },
   "outputs": [
    {
     "data": {
      "text/html": [
       "<div>\n",
       "<style scoped>\n",
       "    .dataframe tbody tr th:only-of-type {\n",
       "        vertical-align: middle;\n",
       "    }\n",
       "\n",
       "    .dataframe tbody tr th {\n",
       "        vertical-align: top;\n",
       "    }\n",
       "\n",
       "    .dataframe thead th {\n",
       "        text-align: right;\n",
       "    }\n",
       "</style>\n",
       "<table border=\"1\" class=\"dataframe\">\n",
       "  <thead>\n",
       "    <tr style=\"text-align: right;\">\n",
       "      <th></th>\n",
       "      <th>VOTOS_TOTALES</th>\n",
       "      <th>VOTOS_AGRUPACION</th>\n",
       "      <th>PORCENTAJE_AGRUPACION</th>\n",
       "    </tr>\n",
       "    <tr>\n",
       "      <th>NOMBRE_REGION</th>\n",
       "      <th></th>\n",
       "      <th></th>\n",
       "      <th></th>\n",
       "    </tr>\n",
       "  </thead>\n",
       "  <tbody>\n",
       "    <tr>\n",
       "      <th>COMUNA 01</th>\n",
       "      <td>122034</td>\n",
       "      <td>4368</td>\n",
       "      <td>3.58</td>\n",
       "    </tr>\n",
       "    <tr>\n",
       "      <th>COMUNA 02</th>\n",
       "      <td>104294</td>\n",
       "      <td>2620</td>\n",
       "      <td>2.51</td>\n",
       "    </tr>\n",
       "    <tr>\n",
       "      <th>COMUNA 03</th>\n",
       "      <td>117157</td>\n",
       "      <td>5124</td>\n",
       "      <td>4.37</td>\n",
       "    </tr>\n",
       "    <tr>\n",
       "      <th>COMUNA 04</th>\n",
       "      <td>136899</td>\n",
       "      <td>5798</td>\n",
       "      <td>4.24</td>\n",
       "    </tr>\n",
       "    <tr>\n",
       "      <th>COMUNA 05</th>\n",
       "      <td>121975</td>\n",
       "      <td>5740</td>\n",
       "      <td>4.71</td>\n",
       "    </tr>\n",
       "    <tr>\n",
       "      <th>COMUNA 06</th>\n",
       "      <td>127594</td>\n",
       "      <td>5248</td>\n",
       "      <td>4.11</td>\n",
       "    </tr>\n",
       "    <tr>\n",
       "      <th>COMUNA 07</th>\n",
       "      <td>134121</td>\n",
       "      <td>5247</td>\n",
       "      <td>3.91</td>\n",
       "    </tr>\n",
       "    <tr>\n",
       "      <th>COMUNA 08</th>\n",
       "      <td>107120</td>\n",
       "      <td>4018</td>\n",
       "      <td>3.75</td>\n",
       "    </tr>\n",
       "    <tr>\n",
       "      <th>COMUNA 09</th>\n",
       "      <td>116632</td>\n",
       "      <td>4568</td>\n",
       "      <td>3.92</td>\n",
       "    </tr>\n",
       "    <tr>\n",
       "      <th>COMUNA 10</th>\n",
       "      <td>118733</td>\n",
       "      <td>5148</td>\n",
       "      <td>4.34</td>\n",
       "    </tr>\n",
       "    <tr>\n",
       "      <th>COMUNA 11</th>\n",
       "      <td>137736</td>\n",
       "      <td>5461</td>\n",
       "      <td>3.96</td>\n",
       "    </tr>\n",
       "    <tr>\n",
       "      <th>COMUNA 12</th>\n",
       "      <td>152159</td>\n",
       "      <td>6180</td>\n",
       "      <td>4.06</td>\n",
       "    </tr>\n",
       "    <tr>\n",
       "      <th>COMUNA 13</th>\n",
       "      <td>168762</td>\n",
       "      <td>5457</td>\n",
       "      <td>3.23</td>\n",
       "    </tr>\n",
       "    <tr>\n",
       "      <th>COMUNA 14</th>\n",
       "      <td>156784</td>\n",
       "      <td>4675</td>\n",
       "      <td>2.98</td>\n",
       "    </tr>\n",
       "    <tr>\n",
       "      <th>COMUNA 15</th>\n",
       "      <td>128547</td>\n",
       "      <td>6094</td>\n",
       "      <td>4.74</td>\n",
       "    </tr>\n",
       "  </tbody>\n",
       "</table>\n",
       "</div>"
      ],
      "text/plain": [
       "               VOTOS_TOTALES  VOTOS_AGRUPACION  PORCENTAJE_AGRUPACION\n",
       "NOMBRE_REGION                                                        \n",
       "COMUNA 01             122034              4368                   3.58\n",
       "COMUNA 02             104294              2620                   2.51\n",
       "COMUNA 03             117157              5124                   4.37\n",
       "COMUNA 04             136899              5798                   4.24\n",
       "COMUNA 05             121975              5740                   4.71\n",
       "COMUNA 06             127594              5248                   4.11\n",
       "COMUNA 07             134121              5247                   3.91\n",
       "COMUNA 08             107120              4018                   3.75\n",
       "COMUNA 09             116632              4568                   3.92\n",
       "COMUNA 10             118733              5148                   4.34\n",
       "COMUNA 11             137736              5461                   3.96\n",
       "COMUNA 12             152159              6180                   4.06\n",
       "COMUNA 13             168762              5457                   3.23\n",
       "COMUNA 14             156784              4675                   2.98\n",
       "COMUNA 15             128547              6094                   4.74"
      ]
     },
     "execution_count": 27,
     "metadata": {},
     "output_type": "execute_result"
    }
   ],
   "source": [
    "porc_pres_comuna_fit"
   ]
  },
  {
   "cell_type": "markdown",
   "id": "1b15dc4d",
   "metadata": {
    "slideshow": {
     "slide_type": "slide"
    }
   },
   "source": [
    "#### Gráfico de cantidad de votos presidenciales del partido FIT por comuna "
   ]
  },
  {
   "cell_type": "code",
   "execution_count": 28,
   "id": "7fbed1dc",
   "metadata": {
    "slideshow": {
     "slide_type": "-"
    }
   },
   "outputs": [
    {
     "data": {
      "text/plain": [
       "<seaborn.axisgrid.FacetGrid at 0x165cc3f3460>"
      ]
     },
     "execution_count": 28,
     "metadata": {},
     "output_type": "execute_result"
    },
    {
     "data": {
      "image/png": "[encoded data removed]",
      "text/plain": [
       "<Figure size 360x360 with 1 Axes>"
      ]
     },
     "metadata": {},
     "output_type": "display_data"
    }
   ],
   "source": [
    "votos_pres_grafico_1 = pd.read_csv(\"Flor/Graficos/pres_FIT_comuna.csv\")\n",
    "sns.set(style = 'darkgrid')\n",
    "sns.relplot(x = 'VOTOS_AGRUPACION', y = 'NOMBRE_REGION', data= votos_pres_grafico_1)"
   ]
  },
  {
   "cell_type": "markdown",
   "id": "073b961e",
   "metadata": {
    "slideshow": {
     "slide_type": "slide"
    }
   },
   "source": [
    "#### Gráfico de porcentaje de votos presidenciales del partido FIT por comuna "
   ]
  },
  {
   "cell_type": "code",
   "execution_count": 30,
   "id": "fb36a80f",
   "metadata": {
    "slideshow": {
     "slide_type": "-"
    }
   },
   "outputs": [
    {
     "data": {
      "image/png": "[encoded data removed]",
      "text/plain": [
       "<Figure size 432x288 with 1 Axes>"
      ]
     },
     "metadata": {},
     "output_type": "display_data"
    }
   ],
   "source": [
    "colors = [\"#C0C0C0\", \"#000000\", \"#FF0000\", \"#800000\", \"#FFFF00\", \"#808000\", \"#00FF00\", \"#008000\", \"#00FFFF\", \"#008080\",\"#0000FF\", \"#000080\", \"#FF00FF\", \"#800080\", \"#FFFFFF\"]\n",
    "df =  pd.read_csv('Flor/Graficos/pres_FIT_comuna.csv')\n",
    "eje_x = df[\"NOMBRE_REGION\"]\n",
    "eje_y = df[\"PORCENTAJE_AGRUPACION\"]\n",
    "plt.bar(eje_x, eje_y, color=colors)\n",
    "plt.xticks(rotation=90)\n",
    "plt.ylabel('Porcentajes a voto presidencial')\n",
    "plt.xlabel('Comunas')\n",
    "plt.title('Porcentaje de votos al FIT por comuna')\n",
    "plt.show()"
   ]
  },
  {
   "cell_type": "markdown",
   "id": "3c56bc10",
   "metadata": {
    "slideshow": {
     "slide_type": "slide"
    }
   },
   "source": [
    "#### Comunas que superan el cuarto cuantil"
   ]
  },
  {
   "cell_type": "code",
   "execution_count": null,
   "id": "bd5cfdc4",
   "metadata": {
    "slideshow": {
     "slide_type": "skip"
    }
   },
   "outputs": [],
   "source": [
    "porc_pres_comuna_fit_q75 = porc_pres_comuna_fit.copy()\n",
    "porc_pres_comuna_fit_q75\n",
    "porc_pres_comuna_fit_q75[\"QUANTIL\"] = pd.qcut(porc_pres_comuna_fit_q75[\"PORCENTAJE_AGRUPACION\"],q=4, labels= False)"
   ]
  },
  {
   "cell_type": "code",
   "execution_count": null,
   "id": "4687f914",
   "metadata": {
    "slideshow": {
     "slide_type": "-"
    }
   },
   "outputs": [
    {
     "data": {
      "text/html": [
       "<div>\n",
       "<style scoped>\n",
       "    .dataframe tbody tr th:only-of-type {\n",
       "        vertical-align: middle;\n",
       "    }\n",
       "\n",
       "    .dataframe tbody tr th {\n",
       "        vertical-align: top;\n",
       "    }\n",
       "\n",
       "    .dataframe thead th {\n",
       "        text-align: right;\n",
       "    }\n",
       "</style>\n",
       "<table border=\"1\" class=\"dataframe\">\n",
       "  <thead>\n",
       "    <tr style=\"text-align: right;\">\n",
       "      <th></th>\n",
       "      <th>VOTOS_TOTALES</th>\n",
       "      <th>VOTOS_AGRUPACION</th>\n",
       "      <th>PORCENTAJE_AGRUPACION</th>\n",
       "      <th>QUANTIL</th>\n",
       "    </tr>\n",
       "    <tr>\n",
       "      <th>NOMBRE_REGION</th>\n",
       "      <th></th>\n",
       "      <th></th>\n",
       "      <th></th>\n",
       "      <th></th>\n",
       "    </tr>\n",
       "  </thead>\n",
       "  <tbody>\n",
       "    <tr>\n",
       "      <th>COMUNA 15</th>\n",
       "      <td>128547</td>\n",
       "      <td>6094</td>\n",
       "      <td>4.74</td>\n",
       "      <td>3</td>\n",
       "    </tr>\n",
       "    <tr>\n",
       "      <th>COMUNA 05</th>\n",
       "      <td>121975</td>\n",
       "      <td>5740</td>\n",
       "      <td>4.71</td>\n",
       "      <td>3</td>\n",
       "    </tr>\n",
       "    <tr>\n",
       "      <th>COMUNA 03</th>\n",
       "      <td>117157</td>\n",
       "      <td>5124</td>\n",
       "      <td>4.37</td>\n",
       "      <td>3</td>\n",
       "    </tr>\n",
       "    <tr>\n",
       "      <th>COMUNA 10</th>\n",
       "      <td>118733</td>\n",
       "      <td>5148</td>\n",
       "      <td>4.34</td>\n",
       "      <td>3</td>\n",
       "    </tr>\n",
       "  </tbody>\n",
       "</table>\n",
       "</div>"
      ],
      "text/plain": [
       "               VOTOS_TOTALES  VOTOS_AGRUPACION  PORCENTAJE_AGRUPACION  QUANTIL\n",
       "NOMBRE_REGION                                                                 \n",
       "COMUNA 15             128547              6094                   4.74        3\n",
       "COMUNA 05             121975              5740                   4.71        3\n",
       "COMUNA 03             117157              5124                   4.37        3\n",
       "COMUNA 10             118733              5148                   4.34        3"
      ]
     },
     "execution_count": 26,
     "metadata": {},
     "output_type": "execute_result"
    }
   ],
   "source": [
    "porc_pres_comuna_fit_q75[porc_pres_comuna_fit_q75[\"QUANTIL\"] == 3].sort_values(by=[\"PORCENTAJE_AGRUPACION\"], ascending= False) "
   ]
  },
  {
   "cell_type": "markdown",
   "id": "b543e596",
   "metadata": {
    "slideshow": {
     "slide_type": "slide"
    }
   },
   "source": [
    "#### Gráfico de porcentaje de votos presidenciales del partido FIT ordenados de mayor a menor por comuna "
   ]
  },
  {
   "cell_type": "code",
   "execution_count": 32,
   "id": "d1247d51",
   "metadata": {
    "slideshow": {
     "slide_type": "-"
    }
   },
   "outputs": [
    {
     "data": {
      "image/png": "[encoded data removed]",
      "text/plain": [
       "<Figure size 432x288 with 1 Axes>"
      ]
     },
     "metadata": {},
     "output_type": "display_data"
    }
   ],
   "source": [
    "colors = [\"#C0C0C0\", \"#000000\", \"#FF0000\", \"#800000\", \"#FFFF00\", \"#808000\", \"#00FF00\", \"#008000\", \"#00FFFF\", \"#008080\",\"#0000FF\", \"#000080\", \"#FF00FF\", \"#800080\", \"#FFFFFF\"]\n",
    "df =  pd.read_csv('Flor/Graficos/pres_FIT_comuna_sorted.csv')\n",
    "eje_x = df[\"NOMBRE_REGION\"]\n",
    "eje_y = df[\"PORCENTAJE_AGRUPACION\"]\n",
    "plt.bar(eje_x, eje_y, color=colors)\n",
    "plt.xticks(rotation=90)\n",
    "plt.ylabel('Porcentajes a voto presidencial')\n",
    "plt.xlabel('Comunas')\n",
    "plt.title('Porcentaje de votos al FIT por comuna')\n",
    "plt.show()"
   ]
  },
  {
   "cell_type": "markdown",
   "id": "f23fa0b9",
   "metadata": {
    "slideshow": {
     "slide_type": "slide"
    }
   },
   "source": [
    "## Análisis 1.2:\n",
    "### A la hora de plantear una estrategia más general,  las comunas a priorizar son las que superan los 5 puntos: 15, 05, 03, 10, 04, 06, 12. El resto es muy difícil que se pueda subir de ahí \n",
    "#### Y con la tabla anterior podemos fijarnos dentro de cada comuna los circuitos a priorizar. Por ejemplo con la Comuna 15:"
   ]
  },
  {
   "cell_type": "markdown",
   "id": "f9ef02ed",
   "metadata": {
    "slideshow": {
     "slide_type": "subslide"
    }
   },
   "source": [
    "#### Resultados solo para comuna 15\n"
   ]
  },
  {
   "cell_type": "code",
   "execution_count": null,
   "id": "1e4180fd",
   "metadata": {
    "slideshow": {
     "slide_type": "skip"
    }
   },
   "outputs": [],
   "source": [
    "# Resultados solo para comuna 15\n",
    "porc_pres_comuna_15_fit = porc_pres_circuito_fit.loc[\"COMUNA 15\"]"
   ]
  },
  {
   "cell_type": "code",
   "execution_count": null,
   "id": "076b2f92",
   "metadata": {
    "slideshow": {
     "slide_type": "-"
    }
   },
   "outputs": [],
   "source": [
    "\n",
    "porc_pres_comuna_15_fit.sort_values(by=[\"PORCENTAJE_AGRUPACION\"], ascending=False)"
   ]
  },
  {
   "cell_type": "markdown",
   "id": "03ae23a2",
   "metadata": {
    "slideshow": {
     "slide_type": "slide"
    }
   },
   "source": [
    "## 2.1\n",
    "### Corte de boleta\n",
    "#### A priori, uno pensaría que hay una mayor cantidad de votos a la categoría Diputados que a la Presidentes para el FIT, significando que hay un porcentaje que corta boleta"
   ]
  },
  {
   "cell_type": "code",
   "execution_count": null,
   "id": "aef305c9",
   "metadata": {
    "slideshow": {
     "slide_type": "subslide"
    }
   },
   "outputs": [],
   "source": [
    "def corte_boleta(porc_pres, porc_dip):\n",
    "    \"\"\"\n",
    "    Resta el voto en categoría Diputado con el Presidencial \n",
    "    para cualcular corte de boleta\n",
    "    \"\"\"\n",
    "    porc_pres = porc_pres.rename(columns={\"VOTOS_TOTALES\": \"VOTOS_TOTALES_PRES\", \"VOTOS_AGRUPACION\": \"VOTOS_AGRUPACION_PRES\", \"PORCENTAJE_AGRUPACION\": \"PORCENTAJE_AGRUPACION_PRES\"})\n",
    "    porc_dip = porc_dip.rename(columns={\"VOTOS_TOTALES\": \"VOTOS_TOTALES_DIP\", \"VOTOS_AGRUPACION\": \"VOTOS_AGRUPACION_DIP\", \"PORCENTAJE_AGRUPACION\": \"PORCENTAJE_AGRUPACION_DIP\"})\n",
    "\n",
    "    comparacion_pres_dip = pd.merge(porc_pres, porc_dip, left_index=True, right_index=True)\n",
    "\n",
    "    comparacion_pres_dip[\"DIFERENCIA_DIP_PRES\"] = (comparacion_pres_dip[\"PORCENTAJE_AGRUPACION_DIP\"] - comparacion_pres_dip[\"PORCENTAJE_AGRUPACION_PRES\"])\n",
    "\n",
    "    return comparacion_pres_dip"
   ]
  },
  {
   "cell_type": "code",
   "execution_count": null,
   "id": "5a115d8e",
   "metadata": {
    "slideshow": {
     "slide_type": "skip"
    }
   },
   "outputs": [],
   "source": [
    "# Resultados totales en cada mesa solo para Diputado Nacional\n",
    "resultCABA_dip_total = resultCABA[resultCABA[\"NOMBRE_CATEGORIA\"] == \"Diputados Nacionales Ciudad Autónoma de Buenos Aires\"]\n",
    "\n",
    "# Resultados del FIT en cada mesa solo para Diputado\n",
    "resultCABA_dip_fit = resultCABA[(resultCABA[\"NOMBRE_CATEGORIA\"] == \"Diputados Nacionales Ciudad Autónoma de Buenos Aires\") & (resultCABA[\"NOMBRE_AGRUPACION\"] == \"FRENTE DE IZQUIERDA Y DE TRABAJADORES - UNIDAD\")]\n"
   ]
  },
  {
   "cell_type": "markdown",
   "id": "adcafb93",
   "metadata": {
    "slideshow": {
     "slide_type": "slide"
    }
   },
   "source": [
    "#### Porcentaje de Diputados Nacionales del FIT por circuito\n"
   ]
  },
  {
   "cell_type": "code",
   "execution_count": null,
   "id": "35c57032",
   "metadata": {
    "slideshow": {
     "slide_type": "skip"
    }
   },
   "outputs": [],
   "source": [
    "porc_dip_circ_fit = porcentaje_circuito(resultCABA_dip_total, resultCABA_dip_fit)"
   ]
  },
  {
   "cell_type": "code",
   "execution_count": null,
   "id": "9b02bc2f",
   "metadata": {
    "slideshow": {
     "slide_type": "-"
    }
   },
   "outputs": [],
   "source": [
    "porc_dip_circ_fit"
   ]
  },
  {
   "cell_type": "markdown",
   "id": "6d523604",
   "metadata": {
    "slideshow": {
     "slide_type": "slide"
    }
   },
   "source": [
    "####  Porcentaje de Diputados Nacionales del FIT por comuna"
   ]
  },
  {
   "cell_type": "code",
   "execution_count": null,
   "id": "ec3e1d3a",
   "metadata": {
    "slideshow": {
     "slide_type": "skip"
    }
   },
   "outputs": [],
   "source": [
    "porc_dip_comuna_fit = porcentaje_comuna(porc_dip_circ_fit)"
   ]
  },
  {
   "cell_type": "code",
   "execution_count": null,
   "id": "40bd57ae",
   "metadata": {
    "slideshow": {
     "slide_type": "-"
    }
   },
   "outputs": [],
   "source": [
    "porc_dip_comuna_fit"
   ]
  },
  {
   "cell_type": "markdown",
   "id": "fca065e8",
   "metadata": {
    "slideshow": {
     "slide_type": "slide"
    }
   },
   "source": [
    "#### Gráfico de cantidad de votos a diputados del partido FIT por comuna "
   ]
  },
  {
   "cell_type": "code",
   "execution_count": null,
   "id": "3a814ec3",
   "metadata": {
    "slideshow": {
     "slide_type": "-"
    }
   },
   "outputs": [],
   "source": [
    "votos_dipnac_grafico_1 = pd.read_csv(\"DipNac_FIT_comuna.csv\")\n",
    "sns.set(style = 'darkgrid')\n",
    "sns.relplot(x = 'VOTOS_FIT_DIPNAC', y = 'NOMBRE_REGION', data= votos_dipnac_grafico_1)"
   ]
  },
  {
   "cell_type": "markdown",
   "id": "c7db51d9",
   "metadata": {
    "slideshow": {
     "slide_type": "slide"
    }
   },
   "source": [
    "#### Gráfico de porcentaje de votos a diputados del partido FIT por comuna "
   ]
  },
  {
   "cell_type": "code",
   "execution_count": 33,
   "id": "97fc4d94",
   "metadata": {
    "slideshow": {
     "slide_type": "-"
    }
   },
   "outputs": [
    {
     "data": {
      "image/png": "[encoded data removed]",
      "text/plain": [
       "<Figure size 432x288 with 1 Axes>"
      ]
     },
     "metadata": {},
     "output_type": "display_data"
    }
   ],
   "source": [
    "colors = [\"#C0C0C0\", \"#000000\", \"#FF0000\", \"#800000\", \"#FFFF00\", \"#808000\", \"#00FF00\", \"#008000\", \"#00FFFF\", \"#008080\",\"#0000FF\", \"#000080\", \"#FF00FF\", \"#800080\", \"#FFFFFF\"]\n",
    "df =  pd.read_csv('FLor/Graficos/DipNac_FIT_comuna.csv')\n",
    "eje_x = df[\"NOMBRE_REGION\"]\n",
    "eje_y = df[\"PORCENTAJE_FIT_DIPNAC\"]\n",
    "plt.bar(eje_x, eje_y, color=colors)\n",
    "plt.xticks(rotation=90)\n",
    "plt.ylabel('Porcentajes a voto diputados')\n",
    "plt.xlabel('Comunas')\n",
    "plt.title('Porcentaje de votos al FIT por comuna')\n",
    "plt.show()"
   ]
  },
  {
   "cell_type": "markdown",
   "id": "b6032d30",
   "metadata": {
    "slideshow": {
     "slide_type": "slide"
    }
   },
   "source": [
    "#### Diferencia entre el voto legislativo y el presidencial por circuitos\n"
   ]
  },
  {
   "cell_type": "code",
   "execution_count": null,
   "id": "64d6c335",
   "metadata": {},
   "outputs": [],
   "source": [
    "diferencia_fit_circ = corte_boleta(porc_pres_circuito_fit, porc_dip_circ_fit)\n",
    "diferencia_fit_circ"
   ]
  },
  {
   "cell_type": "markdown",
   "id": "60b9ebf7",
   "metadata": {
    "slideshow": {
     "slide_type": "slide"
    }
   },
   "source": [
    "#### Diferencia entre el voto legislativo y el presidencial por comunas. Es decir, el porcentaje de electores por cada comuna que para Presidente votaron cualquier otra cosa, pero para Diputados votaron al FIT\n"
   ]
  },
  {
   "cell_type": "code",
   "execution_count": null,
   "id": "5e1de7db",
   "metadata": {
    "slideshow": {
     "slide_type": "skip"
    }
   },
   "outputs": [],
   "source": [
    "diferencia_fit_comuna = corte_boleta(porc_pres_comuna_fit, porc_dip_comuna_fit)"
   ]
  },
  {
   "cell_type": "code",
   "execution_count": null,
   "id": "aae99002",
   "metadata": {
    "slideshow": {
     "slide_type": "-"
    }
   },
   "outputs": [],
   "source": [
    "\n",
    "diferencia_fit_comuna[[\"PORCENTAJE_AGRUPACION_PRES\",\"PORCENTAJE_AGRUPACION_DIP\", \"DIFERENCIA_DIP_PRES\"]].sort_values(by=[\"DIFERENCIA_DIP_PRES\"], ascending = False)\n"
   ]
  },
  {
   "cell_type": "code",
   "execution_count": 35,
   "id": "57c3ded3",
   "metadata": {
    "slideshow": {
     "slide_type": "slide"
    }
   },
   "outputs": [
    {
     "data": {
      "text/plain": [
       "Text(0.5, 8.95999999999998, 'Comunas')"
      ]
     },
     "execution_count": 35,
     "metadata": {},
     "output_type": "execute_result"
    },
    {
     "data": {
      "image/png": "[encoded data removed]",
      "text/plain": [
       "<Figure size 360x360 with 1 Axes>"
      ]
     },
     "metadata": {},
     "output_type": "display_data"
    }
   ],
   "source": [
    "votos_dipnac_grafico_1 = pd.read_csv(\"Flor/Graficos/pres_FIT_comuna.csv\")\n",
    "sns.relplot(x = 'NOMBRE_REGION', y = \"PORCENTAJE_AGRUPACION\" , kind = 'line' , data= votos_dipnac_grafico_1  , ci = False)\n",
    "plt.xticks(rotation=90)\n",
    "plt.ylabel('Porcentajes a voto presidenciales')\n",
    "plt.xlabel('Comunas')"
   ]
  },
  {
   "cell_type": "code",
   "execution_count": 36,
   "id": "1d335b59",
   "metadata": {
    "slideshow": {
     "slide_type": "-"
    }
   },
   "outputs": [
    {
     "data": {
      "text/plain": [
       "Text(0.5, 8.95999999999998, 'Comunas')"
      ]
     },
     "execution_count": 36,
     "metadata": {},
     "output_type": "execute_result"
    },
    {
     "data": {
      "image/png": "[encoded data removed]",
      "text/plain": [
       "<Figure size 360x360 with 1 Axes>"
      ]
     },
     "metadata": {},
     "output_type": "display_data"
    }
   ],
   "source": [
    "votos_dipnac_grafico_1 = pd.read_csv(\"Flor/Graficos/DipNac_FIT_comuna.csv\")\n",
    "sns.relplot(x = 'NOMBRE_REGION', y = 'PORCENTAJE_FIT_DIPNAC' , kind = 'line' , data= votos_dipnac_grafico_1  , ci = False)\n",
    "plt.xticks(rotation=90)\n",
    "plt.ylabel('Porcentajes a voto diputados')\n",
    "plt.xlabel('Comunas')"
   ]
  },
  {
   "cell_type": "markdown",
   "id": "1af22aec",
   "metadata": {
    "slideshow": {
     "slide_type": "slide"
    }
   },
   "source": [
    "## Análisis 2.1:\n",
    "### Se puede apreciar en primer lugar que en **todas las comunas la diferencia es positiva**. Es decir, en todas las comunas hay más voto para Diputados que para Presidente\n",
    "#### Por lo tanto, creemos que una estrategia que apunte a conseguir para esta categoría es más viable que para Presidente, y se puede llegar a conseguir votos para entrar al Congreso.\n",
    "#### Además, se puede focalizar en las comunas 15, 05, y 06; que tienen un alto porcentaje de corte de boleta además de ser las comunas com mayor voto legislativo y estar entre las mayores de voto presidencial"
   ]
  },
  {
   "cell_type": "markdown",
   "id": "18f2013a",
   "metadata": {
    "slideshow": {
     "slide_type": "slide"
    }
   },
   "source": [
    "## 2.2:\n",
    "### Se puede comparar la misma diferencia en el resto de las agrupaciones.\n",
    "#### Las agrupaciones cuya diferencia de negativa, tienen más votos para PResidente que para DIputados\n",
    "#### Por lo tanto, es de esas agrupaciones de donse se estan sacando votos en cada comuna"
   ]
  },
  {
   "cell_type": "code",
   "execution_count": null,
   "id": "a32fea53",
   "metadata": {
    "slideshow": {
     "slide_type": "skip"
    }
   },
   "outputs": [],
   "source": [
    "# Resultados del FdT en cada mesa solo para Presidente\n",
    "resultCABA_pres_fdt = resultCABA[(resultCABA[\"NOMBRE_CATEGORIA\"] == \"Presidente y Vicepresidente de la República\") & (resultCABA[\"NOMBRE_AGRUPACION\"] == \"FRENTE DE TODOS\")]\n",
    "\n",
    "# Porcentaje de Diputados Nacionales del FdT por circuito\n",
    "porc_pres_circ_fdt = porcentaje_circuito(resultCABA_pres_total, resultCABA_pres_fdt)\n",
    "\n",
    "# Porcentaje de Diputados Nacionales del FdT por comuna\n",
    "porc_pres_comuna_fdt = porcentaje_comuna(porc_pres_circ_fdt)\n",
    "\n",
    "# Resultados del FdT en cada mesa solo para Presidente\n",
    "resultCABA_dip_fdt = resultCABA[(resultCABA[\"NOMBRE_CATEGORIA\"] == \"Diputados Nacionales Ciudad Autónoma de Buenos Aires\") & (resultCABA[\"NOMBRE_AGRUPACION\"] == \"FRENTE DE TODOS\")]\n",
    "\n",
    "\n",
    "# Porcentaje de Diputados Nacionales del FdT por circuito\n",
    "porc_dip_circ_fdt = porcentaje_circuito(resultCABA_dip_total, resultCABA_dip_fdt)\n",
    "\n",
    "# Porcentaje de Diputados Nacionales del FdT por comuna\n",
    "porc_dip_comuna_fdt = porcentaje_comuna(porc_dip_circ_fdt)\n",
    "\n",
    "# Diferencia entre el voto Presidente y Diputado en FdT por COMUNA\n",
    "diferencia_fdt_comuna = corte_boleta(porc_pres_comuna_fdt, porc_dip_comuna_fdt)\n",
    "\n",
    "# Diferencia entre el voto Presidente y Diputado en FdT por CIRCUITO\n",
    "diferencia_fdt_circ = corte_boleta(porc_pres_circ_fdt, porc_dip_circ_fdt)"
   ]
  },
  {
   "cell_type": "code",
   "execution_count": null,
   "id": "eb94ec02",
   "metadata": {
    "slideshow": {
     "slide_type": "skip"
    }
   },
   "outputs": [],
   "source": [
    "# Resultados del JxC en cada mesa solo para Presidente\n",
    "resultCABA_pres_jxc = resultCABA[(resultCABA[\"NOMBRE_CATEGORIA\"] == \"Presidente y Vicepresidente de la República\") & (resultCABA[\"NOMBRE_AGRUPACION\"] == \"JUNTOS POR EL CAMBIO\")]\n",
    "\n",
    "# Porcentaje de Diputados Nacionales del JxC por circuito\n",
    "porc_pres_circ_jxc = porcentaje_circuito(resultCABA_pres_total, resultCABA_pres_jxc)\n",
    "\n",
    "# Porcentaje de Diputados Nacionales del JxC por comuna\n",
    "porc_pres_comuna_jxc = porcentaje_comuna(porc_pres_circ_jxc)\n",
    "\n",
    "# Resultados del JxC en cada mesa solo para Presidente\n",
    "resultCABA_dip_jxc = resultCABA[(resultCABA[\"NOMBRE_CATEGORIA\"] == \"Diputados Nacionales Ciudad Autónoma de Buenos Aires\") & (resultCABA[\"NOMBRE_AGRUPACION\"] == \"JUNTOS POR EL CAMBIO\")]\n",
    "\n",
    "# Porcentaje de Diputados Nacionales del JxC por circuito\n",
    "porc_dip_circ_jxc = porcentaje_circuito(resultCABA_dip_total, resultCABA_dip_jxc)\n",
    "\n",
    "# Porcentaje de Diputados Nacionales del JxC por comuna\n",
    "porc_dip_comuna_jxc = porcentaje_comuna(porc_dip_circ_jxc)\n",
    "\n",
    "# Diferencia entre el voto Presidente y Diputado en JxC por COMUNA\n",
    "diferencia_jxc_comuna = corte_boleta(porc_pres_comuna_jxc, porc_dip_comuna_jxc)\n",
    "\n",
    "# Diferencia entre el voto Presidente y Diputado en JxC por CIRCUITO\n",
    "diferencia_jxc_circ = corte_boleta(porc_pres_circ_jxc, porc_dip_circ_jxc)\n"
   ]
  },
  {
   "cell_type": "code",
   "execution_count": null,
   "id": "afdcd528",
   "metadata": {
    "slideshow": {
     "slide_type": "skip"
    }
   },
   "outputs": [],
   "source": [
    "# Resultados del cf en cada mesa solo para Presidente\n",
    "resultCABA_pres_cf = resultCABA[(resultCABA[\"NOMBRE_CATEGORIA\"] == \"Presidente y Vicepresidente de la República\") & (resultCABA[\"NOMBRE_AGRUPACION\"] == \"CONSENSO FEDERAL\")]\n",
    "\n",
    "# Porcentaje de Diputados Nacionales del cf por circuito\n",
    "porc_pres_circ_cf = porcentaje_circuito(resultCABA_pres_total, resultCABA_pres_cf)\n",
    "\n",
    "# Porcentaje de Diputados Nacionales del cf por comuna\n",
    "porc_pres_comuna_cf = porcentaje_comuna(porc_pres_circ_cf)\n",
    "\n",
    "# Resultados del cf en cada mesa solo para Presidente\n",
    "resultCABA_dip_cf = resultCABA[(resultCABA[\"NOMBRE_CATEGORIA\"] == \"Diputados Nacionales Ciudad Autónoma de Buenos Aires\") & (resultCABA[\"NOMBRE_AGRUPACION\"] == \"CONSENSO FEDERAL\")]\n",
    "\n",
    "# Porcentaje de Diputados Nacionales del cf por circuito\n",
    "porc_dip_circ_cf = porcentaje_circuito(resultCABA_dip_total, resultCABA_dip_cf)\n",
    "porc_dip_circ_cf\n",
    "\n",
    "# Porcentaje de Diputados Nacionales del cf por comuna\n",
    "porc_dip_comuna_cf = porcentaje_comuna(porc_dip_circ_cf)\n",
    "\n",
    "# Diferencia entre el voto Presidente y Diputado en cf por COMUNA\n",
    "diferencia_cf_comuna = corte_boleta(porc_pres_comuna_cf, porc_dip_comuna_cf)\n",
    "\n",
    "# Diferencia entre el voto Presidente y Diputado en cf por CIRCUITO\n",
    "diferencia_cf_circ = corte_boleta(porc_pres_circ_cf, porc_dip_circ_cf)\n"
   ]
  },
  {
   "cell_type": "code",
   "execution_count": null,
   "id": "419fa66f",
   "metadata": {
    "slideshow": {
     "slide_type": "skip"
    }
   },
   "outputs": [],
   "source": [
    "# Resultados del uld en cada mesa solo para Presidente\n",
    "resultCABA_pres_uld = resultCABA[(resultCABA[\"NOMBRE_CATEGORIA\"] == \"Presidente y Vicepresidente de la República\") & (resultCABA[\"NOMBRE_AGRUPACION\"] == \"UNITE POR LA LIBERTAD Y LA DIGNIDAD\")]\n",
    "\n",
    "# Porcentaje de Diputados Nacionales del uld por circuito\n",
    "porc_pres_circ_uld = porcentaje_circuito(resultCABA_pres_total, resultCABA_pres_uld)\n",
    "\n",
    "# Porcentaje de Diputados Nacionales del uld por comuna\n",
    "porc_pres_comuna_uld = porcentaje_comuna(porc_pres_circ_uld)\n",
    "\n",
    "# Resultados del uld en cada mesa solo para Presidente\n",
    "resultCABA_dip_uld = resultCABA[(resultCABA[\"NOMBRE_CATEGORIA\"] == \"Diputados Nacionales Ciudad Autónoma de Buenos Aires\") & (resultCABA[\"NOMBRE_AGRUPACION\"] == \"UNITE POR LA LIBERTAD Y LA DIGNIDAD\")]\n",
    "\n",
    "# Porcentaje de Diputados Nacionales del uld por circuito\n",
    "porc_dip_circ_uld = porcentaje_circuito(resultCABA_dip_total, resultCABA_dip_uld)\n",
    "\n",
    "# Porcentaje de Diputados Nacionales del uld por comuna\n",
    "porc_dip_comuna_uld = porcentaje_comuna(porc_dip_circ_uld)\n",
    "\n",
    "# Diferencia entre el voto Presidente y Diputado en uld por COMUNA\n",
    "diferencia_uld_comuna = corte_boleta(porc_pres_comuna_uld, porc_dip_comuna_uld)\n",
    "\n",
    "# Diferencia entre el voto Presidente y Diputado en uld por CIRCUITO\n",
    "diferencia_uld_circ = corte_boleta(porc_pres_circ_uld, porc_dip_circ_uld)\n"
   ]
  },
  {
   "cell_type": "code",
   "execution_count": null,
   "id": "15f79d57",
   "metadata": {
    "slideshow": {
     "slide_type": "skip"
    }
   },
   "outputs": [],
   "source": [
    "#%%\n",
    "# Resultados del blanco en cada mesa solo para Presidente\n",
    "resultCABA_pres_blanco = resultCABA[(resultCABA[\"NOMBRE_CATEGORIA\"] == \"Presidente y Vicepresidente de la República\") & (resultCABA[\"NOMBRE_AGRUPACION\"] == \"BLANCO\")]\n",
    "\n",
    "# Porcentaje de Diputados Nacionales del blanco por circuito\n",
    "porc_pres_circ_blanco = porcentaje_circuito(resultCABA_pres_total, resultCABA_pres_blanco)\n",
    "\n",
    "# Porcentaje de Diputados Nacionales del blanco por comuna\n",
    "porc_pres_comuna_blanco = porcentaje_comuna(porc_pres_circ_blanco)\n",
    "\n",
    "# Resultados del blanco en cada mesa solo para Presidente\n",
    "resultCABA_dip_blanco = resultCABA[(resultCABA[\"NOMBRE_CATEGORIA\"] == \"Diputados Nacionales Ciudad Autónoma de Buenos Aires\") & (resultCABA[\"NOMBRE_AGRUPACION\"] == \"BLANCO\")]\n",
    "\n",
    "# Porcentaje de Diputados Nacionales del blanco por circuito\n",
    "porc_dip_circ_blanco = porcentaje_circuito(resultCABA_dip_total, resultCABA_dip_blanco)\n",
    "\n",
    "# Porcentaje de Diputados Nacionales del blanco por comuna\n",
    "porc_dip_comuna_blanco = porcentaje_comuna(porc_dip_circ_blanco)\n",
    "\n",
    "# Diferencia entre el voto Presidente y Diputado en blanco por COMUNA\n",
    "diferencia_blanco_comuna = corte_boleta(porc_pres_comuna_blanco, porc_dip_comuna_blanco)\n",
    "\n",
    "# Diferencia entre el voto Presidente y Diputado en blanco por CIRCUITO\n",
    "diferencia_blanco_circ = corte_boleta(porc_pres_circ_blanco, porc_dip_circ_blanco)\n"
   ]
  },
  {
   "cell_type": "code",
   "execution_count": null,
   "id": "b0d2941d",
   "metadata": {
    "slideshow": {
     "slide_type": "skip"
    }
   },
   "outputs": [],
   "source": [
    "diferencia_blanco_comuna = diferencia_blanco_comuna.rename(columns={\"DIFERENCIA_DIP_PRES\": \"DIFERENCIA_BLANCO\"})\n",
    "diferencia_blanco_circ = diferencia_blanco_circ.rename(columns={\"DIFERENCIA_DIP_PRES\": \"DIFERENCIA_BLANCO\"})\n",
    "sub_diferencia_blanco_circ = diferencia_blanco_circ[\"DIFERENCIA_BLANCO\"]\n",
    "sub_diferencia_blanco_comuna = diferencia_blanco_comuna[\"DIFERENCIA_BLANCO\"]\n",
    "\n",
    "diferencia_uld_comuna = diferencia_uld_comuna.rename(columns={\"DIFERENCIA_DIP_PRES\": \"DIFERENCIA_ULD\"})\n",
    "diferencia_uld_circ = diferencia_uld_circ.rename(columns={\"DIFERENCIA_DIP_PRES\": \"DIFERENCIA_ULD\"})\n",
    "sub_diferencia_uld_circ = diferencia_uld_circ[\"DIFERENCIA_ULD\"]\n",
    "sub_diferencia_uld_comuna = diferencia_uld_comuna[\"DIFERENCIA_ULD\"]\n",
    "\n",
    "diferencia_fit_comuna = diferencia_fit_comuna.rename(columns={\"DIFERENCIA_DIP_PRES\": \"DIFERENCIA_FIT\"})\n",
    "diferencia_fit_circ = diferencia_fit_circ.rename(columns={\"DIFERENCIA_DIP_PRES\": \"DIFERENCIA_FIT\"})\n",
    "sub_diferencia_fit_circ = diferencia_fit_circ[\"DIFERENCIA_FIT\"]\n",
    "sub_diferencia_fit_comuna = diferencia_fit_comuna[\"DIFERENCIA_FIT\"]\n",
    "\n",
    "diferencia_cf_comuna = diferencia_cf_comuna.rename(columns={\"DIFERENCIA_DIP_PRES\": \"DIFERENCIA_CF\"})\n",
    "diferencia_cf_circ = diferencia_cf_circ.rename(columns={\"DIFERENCIA_DIP_PRES\": \"DIFERENCIA_CF\"})\n",
    "sub_diferencia_cf_circ = diferencia_cf_circ[\"DIFERENCIA_CF\"]\n",
    "sub_diferencia_cf_comuna = diferencia_cf_comuna[\"DIFERENCIA_CF\"]\n",
    "\n",
    "diferencia_fdt_comuna = diferencia_fdt_comuna.rename(columns={\"DIFERENCIA_DIP_PRES\": \"DIFERENCIA_FDT\"})\n",
    "diferencia_fdt_circ = diferencia_fdt_circ.rename(columns={\"DIFERENCIA_DIP_PRES\": \"DIFERENCIA_FDT\"})\n",
    "sub_diferencia_fdt_circ = diferencia_fdt_circ[\"DIFERENCIA_FDT\"]\n",
    "sub_diferencia_fdt_comuna = diferencia_fdt_comuna[\"DIFERENCIA_FDT\"]\n",
    "\n",
    "diferencia_jxc_comuna = diferencia_jxc_comuna.rename(columns={\"DIFERENCIA_DIP_PRES\": \"DIFERENCIA_JXC\"})\n",
    "diferencia_jxc_circ = diferencia_jxc_circ.rename(columns={\"DIFERENCIA_DIP_PRES\": \"DIFERENCIA_JXC\"})\n",
    "sub_diferencia_jxc_circ = diferencia_jxc_circ[\"DIFERENCIA_JXC\"]\n",
    "sub_diferencia_jxc_comuna = diferencia_jxc_comuna[\"DIFERENCIA_JXC\"]"
   ]
  },
  {
   "cell_type": "markdown",
   "id": "e3910ddf",
   "metadata": {
    "slideshow": {
     "slide_type": "slide"
    }
   },
   "source": [
    "#### Comparación de las diferencias por Circuito"
   ]
  },
  {
   "cell_type": "code",
   "execution_count": null,
   "id": "f66052d7",
   "metadata": {
    "slideshow": {
     "slide_type": "skip"
    }
   },
   "outputs": [],
   "source": [
    "comparacion_diferencia_circuito = pd.concat([sub_diferencia_jxc_circ, sub_diferencia_fdt_circ, \n",
    "                                            sub_diferencia_cf_circ, sub_diferencia_fit_circ, sub_diferencia_blanco_circ],\n",
    "                                            axis=1)"
   ]
  },
  {
   "cell_type": "code",
   "execution_count": null,
   "id": "6fbd5f8b",
   "metadata": {
    "slideshow": {
     "slide_type": "-"
    }
   },
   "outputs": [],
   "source": [
    "comparacion_diferencia_circuito"
   ]
  },
  {
   "cell_type": "markdown",
   "id": "99ef12c0",
   "metadata": {
    "slideshow": {
     "slide_type": "slide"
    }
   },
   "source": [
    "#### Comparación de las diferencias por Comuna"
   ]
  },
  {
   "cell_type": "code",
   "execution_count": null,
   "id": "8bdd0134",
   "metadata": {
    "slideshow": {
     "slide_type": "skip"
    }
   },
   "outputs": [],
   "source": [
    "comparacion_diferencia_comuna = pd.concat([sub_diferencia_jxc_comuna, sub_diferencia_fdt_comuna, \n",
    "                                            sub_diferencia_cf_comuna, sub_diferencia_fit_comuna, sub_diferencia_blanco_comuna],\n",
    "                                            axis=1)"
   ]
  },
  {
   "cell_type": "code",
   "execution_count": null,
   "id": "603c5d04",
   "metadata": {
    "slideshow": {
     "slide_type": "-"
    }
   },
   "outputs": [],
   "source": [
    "comparacion_diferencia_comuna"
   ]
  },
  {
   "cell_type": "markdown",
   "id": "f0118004",
   "metadata": {
    "slideshow": {
     "slide_type": "slide"
    }
   },
   "source": [
    "## Análisis 2.2\n",
    "### Se puede apreciar que las agrupaciones que más pierden votos legislativos son *Frente de Todos* y *Consenso Federal*\n",
    "#### Por lo tanto, se puede apuntar a ir a buscar a esos votos, para que por lo menos voten al FIT para Diputados"
   ]
  },
  {
   "cell_type": "code",
   "execution_count": null,
   "id": "8ff0a0f5",
   "metadata": {},
   "outputs": [],
   "source": []
  }
 ],
 "metadata": {
  "celltoolbar": "Slideshow",
  "interpreter": {
   "hash": "71bf529ff0c655fe993fd2d632daf45469913bb63e6cb968bc5b286f559fefb1"
  },
  "kernelspec": {
   "display_name": "Python 3.8.11 64-bit ('prueba38': conda)",
   "name": "python3"
  },
  "language_info": {
   "codemirror_mode": {
    "name": "ipython",
    "version": 3
   },
   "file_extension": ".py",
   "mimetype": "text/x-python",
   "name": "python",
   "nbconvert_exporter": "python",
   "pygments_lexer": "ipython3",
   "version": "3.8.11"
  }
 },
 "nbformat": 4,
 "nbformat_minor": 5
}
