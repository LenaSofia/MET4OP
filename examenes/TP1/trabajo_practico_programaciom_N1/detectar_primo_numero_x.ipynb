{
 "metadata": {
  "language_info": {
   "name": "python",
   "version": "3.7.8",
   "mimetype": "text/x-python",
   "codemirror_mode": {
    "name": "ipython",
    "version": 3
   },
   "pygments_lexer": "ipython3",
   "nbconvert_exporter": "python",
   "file_extension": ".py"
  },
  "kernelspec": {
   "name": "python3",
   "display_name": "Python 3",
   "language": "python"
  }
 },
 "nbformat_minor": 5,
 "nbformat": 4,
 "cells": [
  {
   "cell_type": "markdown",
   "source": [
    "1) Sabemos que los primeros seis números primos son 2, 3, 5, 7, 11 y 13. De manera tal\n",
    "que podemos ver que el sexto número primo es el 13.\n",
    "Declarar una función que, dado un número x, devuelva el primo número x. Por\n",
    "ejemplo: primo (1000) = 7919. (6 puntos)\n",
    "\n",
    "Importamos el módulo \"time\" para poder calcular el tiempo total de ejecución del código"
   ],
   "metadata": {},
   "id": "53cfed65-2d24-43e4-b587-a20b2416cb01"
  },
  {
   "cell_type": "code",
   "source": [
    "import time"
   ],
   "metadata": {},
   "execution_count": null,
   "outputs": [],
   "id": "aaf5f0f1-9acb-43e7-b4ba-aa445930ed87"
  },
  {
   "cell_type": "markdown",
   "source": [
    "Inicializamos un diccionario como variable global, para poder usarlo y guardar los datos que se generen en la ejecución de la función"
   ],
   "metadata": {},
   "id": "b698323a-934f-45a4-ab6a-a15b30d54a71"
  },
  {
   "cell_type": "code",
   "source": [
    "diccionario_primos = {1: 2}"
   ],
   "metadata": {},
   "execution_count": null,
   "outputs": [],
   "id": "41b7d0fa-7660-4fae-a958-ab267a7f33de"
  },
  {
   "cell_type": "markdown",
   "source": [
    "Declaramos la función"
   ],
   "metadata": {},
   "id": "7ccc59ef-89a7-4da2-9cac-1da9de40505d"
  },
  {
   "cell_type": "code",
   "source": [
    "def encontrar_primo(posicion_primo_solicitada):\n",
    "    '''Se ingresa un número como parámetro y la función devuelve el numero primo ubicado en la posición que se ingresó'''\n",
    "\n",
    "    posicion_primo_solicitada = int(posicion_primo_solicitada)  # Intentamos convertir el valor ingresado en un int,\n",
    "                                                                # lo hacemos adentro de la función para que sea\n",
    "                                                                # indistinto el modo de ingreso del valor, si no es\n",
    "                                                                # posible se rompe el programa y devuelve un ValueError\n",
    "\n",
    "    if posicion_primo_solicitada < 1:\n",
    "        raise ValueError(\"El número que ingresó es 0 o es negativo\") # Si la posición solicitada es menor a 1, el\n",
    "                                                                     # programa se rompe y devuelve un ValueEror con\n",
    "                                                                     # un mensaje que indica el problema\n",
    "\n",
    "                \n",
    "    \n",
    "    # Si la posición solicitada ya está guardada en el diccionario se imprime un mensaje que indica \n",
    "    # posición y número primo solicitados, se retorna el primo correspondiente y termina el programa\n",
    "    \n",
    "    if posicion_primo_solicitada in diccionario_primos.keys(): \n",
    "        print(F'El primo número {posicion_primo_solicitada} es el {diccionario_primos[posicion_primo_solicitada]}') \n",
    "        return diccionario_primos[posicion_primo_solicitada]\n",
    "\n",
    "    posicion_primo = len(diccionario_primos) # Creamos la variable local \"posición primo\" y le asignamos el largo del\n",
    "                                             # diccionario como la posición del último primo guardado\n",
    "\n",
    "    siguiente_numero = diccionario_primos[posicion_primo] #Creamos la variable local \"siguiente número\" y le asignamos\n",
    "                                                          # el último primo guardado en el diccionario de primos\n",
    "\n",
    "    while posicion_primo != posicion_primo_solicitada: # Mientras la posición del primo actual sea diferente a la\n",
    "                                                       # posición del primo solicitada por el usuario\n",
    "\n",
    "        siguiente_numero += 1 # Se suma 1 al último primo guardado, luego al siguiente \n",
    "                              # del último primo guardado, y así\n",
    "            \n",
    "        es_primo = True # Partimos asumiendo que el número con el que estamos trabajando ahora \n",
    "                        # (\"siguiente_numero\") es primo (True)\n",
    "\n",
    "            \n",
    "    # Vamos a iterar sobre el diccionario de primos que tenemos guardado, por cada primo del diccionario, \n",
    "    # si el número con el que estamos trabajando dividido por el primo actual da cero, \n",
    "    # entonces el número con el que estamos trabajando (siguiente_numero) NO es primo (False)\n",
    "    # y cortamos el ciclo for (pasando a lo siguiente)\n",
    "            \n",
    "        for primo in diccionario_primos.values(): \n",
    "            if siguiente_numero % primo == 0:\n",
    "                es_primo = False \n",
    "                break\n",
    "\n",
    "    # # Si dividimos el número actual (siguiente_numero) por todos los primos y ninguno dió resto cero\n",
    "    # entonces ese número es primo (es_primo = True). En ese caso le sumamos 1 a la última posición, \n",
    "    # para guardar el número primo que encontramos. Finalmente guardamos el último primo que encontramos\n",
    "    # en la posición siguiente a la última guardada.\n",
    "                \n",
    "        if es_primo: \n",
    "            posicion_primo += 1 \n",
    "            diccionario_primos[posicion_primo] = siguiente_numero \n",
    "\n",
    "    # Y volvemos al inicio del ciclo while para comprobar si la posición_primo actual es la solicitada por el\n",
    "    # usuario, si es así se termina el ciclo, imprimimos el mensaje de abajo y retornamos el número primo de la\n",
    "    # posición solicitada, en caso contrario repetimos el proceso anterior con el siguiente número\n",
    "\n",
    "    print(F'El primo número {posicion_primo_solicitada} es el {diccionario_primos[posicion_primo_solicitada]}')\n",
    "    return diccionario_primos[posicion_primo_solicitada]"
   ],
   "metadata": {},
   "execution_count": null,
   "outputs": [],
   "id": "a77da530-6f65-4926-9c14-634c7e58d7d8"
  },
  {
   "cell_type": "markdown",
   "source": "Definimos el número que vamos a usar y llamamos a la función, además iniciamos y detenemos el contador de tiempo para calcular cuánto tarda la ejecución de nuestra función",
   "metadata": {},
   "id": "08998ef5-7f2d-4ea0-8098-5679d335e08d"
  },
  {
   "cell_type": "code",
   "source": "primo_numero_x = (input(\"Por favor ingrese un numero entero positivo para saber el numero primo que se encuentra en esa posición: \"))\n\ninicio = time.time()\n\nprimo_numero_x = encontrar_primo(primo_numero_x)\nprint(primo_numero_x)\n\nfin = time.time()\n\nprint(fin-inicio)",
   "metadata": {},
   "execution_count": null,
   "outputs": [],
   "id": "0822433a-0535-4b7b-8534-876f57b91965"
  }
 ]
}