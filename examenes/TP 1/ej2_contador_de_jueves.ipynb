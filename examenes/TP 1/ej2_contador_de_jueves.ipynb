{
 "metadata": {
  "language_info": {
   "name": ""
  },
  "kernelspec": {
   "name": "",
   "display_name": ""
  }
 },
 "nbformat_minor": 5,
 "nbformat": 4,
 "cells": [
  {
   "cell_type": "markdown",
   "source": [
    "2) Sabemos que el día 1970-01-01 fue jueves. Declarar una función que pueda indicar\n",
    "cuántos jueves han sido el primer día de cada mes desde entonces. La fecha de corte\n",
    "debe de poder ser cualquiera. (1 punto)"
   ],
   "metadata": {},
   "id": "12b36bac-4144-4d93-a753-1f4556209498"
  },
  {
   "cell_type": "markdown",
   "source": "Importamos las librerías que vamos a usar",
   "metadata": {},
   "id": "b9574d38-6862-422e-b3d0-757b59ef971e"
  },
  {
   "cell_type": "code",
   "source": "import dateutil\nfrom datetime import datetime\nfrom dateutil.relativedelta import relativedelta",
   "metadata": {},
   "execution_count": null,
   "outputs": [],
   "id": "6ae26965-c726-4a60-9997-f43bc9f8d15c"
  },
  {
   "cell_type": "markdown",
   "source": "Inicializamos las variables que vamos a usar",
   "metadata": {},
   "id": "fdf325ca-128e-460a-85c4-95f3c22a66cb"
  },
  {
   "cell_type": "code",
   "source": "fecha_inicial = datetime(1970, 1, 1)\n\nfecha_de_corte = datetime.strptime(input('Por favor ingrese una fecha de corte, escrita en números, con el formato '\n                                         'año_completo/mes/día (por ejemplo 2021/1/3 o 2021/01/03): '), '%Y/%m/%d')",
   "metadata": {},
   "execution_count": null,
   "outputs": [],
   "id": "f5630fb4-68b1-4099-9fb8-2321b9228bb5"
  },
  {
   "cell_type": "markdown",
   "source": "Definimos la función contar_primeros_jueves_del_mes, cuyos parámetros serán la fecha inicial (que en este caso queda fija) y la fecha de corte (que puede ser cualquiera hasta el año 9999)",
   "metadata": {},
   "id": "5a3562f8-84ac-4bd8-9200-1a0cade30ffb"
  },
  {
   "cell_type": "code",
   "source": "def contar_primeros_jueves_del_mes(fecha_inicial, fecha_de_corte):\n    '''Dada una fecha de inicio y una fecha de corte, la función calcula la cantidad de primeros días del mes que\n    cayeron jueves en ese intervalo de tiempo'''\n\n    contador_de_jueves = 0 # Inicializamos un contador que contara la cantidad de jueves\n    \n    fecha_dada = fecha_inicial # Igualamos la fecha dada (sobre la que iremos agregando los meses) a la fecha inicial \n\n\n# Mientras la fecha dada sea menor a la fecha de corte, le agregaremos un mes a la fecha dada \n# (que es siempre el primer día del mes), luego veremos si esa fecha es jueves, \n# en caso de que sea jueves le sumaremos 1 al contador de jueves\n\n    while fecha_dada <= fecha_de_corte:\n        fecha_dada += relativedelta(months=1)\n        if datetime.strftime(fecha_dada, '%A') == 'Thursday':\n            contador_de_jueves += 1\n\n    return contador_de_jueves # Finalmente retornaremos la cantidad de jueves que hubo en ese lapso de tiempo\n",
   "metadata": {},
   "execution_count": null,
   "outputs": [],
   "id": "43017f56-5516-4ef6-821b-e68a764cf150"
  },
  {
   "cell_type": "markdown",
   "source": "Finalmente llamamos a la función e imprimimos el resultado",
   "metadata": {},
   "id": "2ed47f2a-5521-40b9-a882-8502717ec97e"
  },
  {
   "cell_type": "code",
   "source": "cantidad_de_jueves = contar_primeros_jueves_del_mes(fecha_inicial, fecha_de_corte)\n\nprint(cantidad_de_jueves)",
   "metadata": {},
   "execution_count": null,
   "outputs": [],
   "id": "9af7d0df-af5d-4112-9034-3b162b52857d"
  }
 ]
}