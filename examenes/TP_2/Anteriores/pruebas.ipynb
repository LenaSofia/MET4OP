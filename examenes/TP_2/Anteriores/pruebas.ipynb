{
 "cells": [
  {
   "cell_type": "code",
   "execution_count": 13,
   "id": "66bc39c8-114c-4e49-8c24-b539c4c861db",
   "metadata": {
    "tags": []
   },
   "outputs": [],
   "source": [
    "import numpy as np\n",
    "import pandas as pd\n",
    "import pprint\n",
    "\n",
    "pd.options.display.max_columns = None\n",
    "pd.options.display.max_rows = None\n",
    "\n",
    "resultCABA = pd.read_csv(\"../datos_agrup.csv\")"
   ]
  },
  {
   "cell_type": "markdown",
   "id": "92b49289-bcfb-4d40-b698-2db142b70efa",
   "metadata": {},
   "source": [
    "CODIGO_DISTRITO (devuelve uno sólo porque estamos analizando los datos de CABA)"
   ]
  },
  {
   "cell_type": "code",
   "execution_count": 43,
   "id": "f4a5ae4c-2539-474d-a55c-2f2c2e9392f9",
   "metadata": {},
   "outputs": [
    {
     "name": "stdout",
     "output_type": "stream",
     "text": [
      "[1]\n"
     ]
    }
   ],
   "source": [
    "print(resultCABA['CODIGO_DISTRITO'].unique())"
   ]
  },
  {
   "cell_type": "markdown",
   "id": "7e2e5ad3-5eb3-4146-b058-408afda6019c",
   "metadata": {},
   "source": [
    "CODIGO_SECCION (devuelve uno sólo porque estamos analizando los datos de CABA)"
   ]
  },
  {
   "cell_type": "code",
   "execution_count": 45,
   "id": "0aab2604-5350-4e07-ac7e-920432488e31",
   "metadata": {},
   "outputs": [
    {
     "name": "stdout",
     "output_type": "stream",
     "text": [
      "[1001 1002 1003 1004 1005 1006 1007 1008 1009 1010 1011 1012 1013 1014\n",
      " 1015]\n"
     ]
    }
   ],
   "source": [
    "print(resultCABA['CODIGO_SECCION'].unique())"
   ]
  },
  {
   "cell_type": "markdown",
   "id": "c1bfcd62-fdf4-4e2f-a718-aa27fecb7eaf",
   "metadata": {},
   "source": [
    "CODIGO_CIRCUITO"
   ]
  },
  {
   "cell_type": "code",
   "execution_count": 16,
   "id": "968a8398-cb49-4ce4-9077-56b36b9083fc",
   "metadata": {},
   "outputs": [
    {
     "name": "stdout",
     "output_type": "stream",
     "text": [
      "[1001000001 1001000002 1001000003 1001000005 1001000006 1001000007\n",
      " 1001000008 1001000009 1001000010 1001000011 1001000012 1001000013\n",
      " 1001000014 1001000015 1001000016 1001000017 1001000018 1001000019\n",
      " 1002000020 1002000021 1002000022 1002000023 1002000024 1002000025\n",
      " 1002000026 1002000027 1002000028 1002000029 1003000030 1003000031\n",
      " 1003000032 1003000033 1003000034 1003000035 1003000036 1003000037\n",
      " 1003000038 1003000039 1003000040 1003000041 1003000042 1004000043\n",
      " 1004000044 1004000045 1004000046 1004000047 1004000048 1004000049\n",
      " 1004000050 1004000051 1004000052 1004000053 1004000054 1004000055\n",
      " 1004000056 1004000057 1005000058 1005000059 1005000060 1005000061\n",
      " 1005000062 1005000063 1005000064 1005000065 1005000066 1005000067\n",
      " 1006000068 1006000069 1006000070 1006000071 1006000072 1006000073\n",
      " 1006000074 1007000075 1007000076 1007000077 1007000078 1007000079\n",
      " 1007000080 1007000081 1007000082 1007000083 1007000084 1007000085\n",
      " 1007000086 1008000087 1008000088 1008000089 1008000090 1009000091\n",
      " 1009000092 1009000093 1009000094 1009000095 1009000096 1009000097\n",
      " 1009000098 1009000099 1009000100 1009000101 1010000102 1010000103\n",
      " 1010000104 1010000105 1010000106 1010000107 1010000108 1010000109\n",
      " 1010000110 1010000111 1010000112 1011000113 1011000114 1011000115\n",
      " 1011000116 1011000117 1011000118 1011000119 1011000120 1011000121\n",
      " 1011000122 1011000123 1012000124 1012000125 1012000126 1012000127\n",
      " 1012000128 1012000129 1012000130 1012000131 1012000132 1012000133\n",
      " 1013000134 1013000135 1013000136 1013000137 1013000138 1013000139\n",
      " 1013000140 1013000141 1013000142 1013000143 1013000144 1013000145\n",
      " 1013000146 1013000147 1014000148 1014000149 1014000150 1014000151\n",
      " 1014000152 1014000153 1014000154 1014000155 1014000156 1014000157\n",
      " 1015000158 1015000159 1015000160 1015000161 1015000162 1015000163\n",
      " 1015000164 1015000165 1015000166 1015000167]\n"
     ]
    }
   ],
   "source": [
    "print(resultCABA['CODIGO_CIRCUITO'].unique())"
   ]
  },
  {
   "cell_type": "markdown",
   "id": "64b458a3-9d59-4351-8989-a9fc7767fe94",
   "metadata": {},
   "source": [
    "CODIGO_MESA"
   ]
  },
  {
   "cell_type": "code",
   "execution_count": 17,
   "id": "fa8c2464-3005-43e1-8d0d-27986c28e7ed",
   "metadata": {},
   "outputs": [
    {
     "name": "stdout",
     "output_type": "stream",
     "text": [
      "['0100100001X' '0100100002X' '0100100003X' ... '0101409048E' '0101509049E'\n",
      " '0101509050E']\n"
     ]
    }
   ],
   "source": [
    "print(resultCABA['CODIGO_MESA'].unique())"
   ]
  },
  {
   "cell_type": "markdown",
   "id": "824517e4",
   "metadata": {},
   "source": [
    "CODIGO_CATEGORIA"
   ]
  },
  {
   "cell_type": "code",
   "execution_count": 18,
   "id": "23aa0e49",
   "metadata": {},
   "outputs": [
    {
     "name": "stdout",
     "output_type": "stream",
     "text": [
      "[100000000000 201000000000 301000000000 501000000000 801000000000\n",
      " 901001000000 901002000000 901003000000 901004000000 901005000000\n",
      " 901006000000 901007000000 901008000000 901009000000 901010000000\n",
      " 901011000000 901012000000 901013000000 901014000000 901015000000]\n"
     ]
    }
   ],
   "source": [
    "print(resultCABA['CODIGO_CATEGORIA'].unique())"
   ]
  },
  {
   "cell_type": "markdown",
   "id": "860342cc",
   "metadata": {},
   "source": [
    "CODIGO_AGRUPACION"
   ]
  },
  {
   "cell_type": "code",
   "execution_count": 19,
   "id": "346e5ec1",
   "metadata": {},
   "outputs": [
    {
     "name": "stdout",
     "output_type": "stream",
     "text": [
      "['13' '131' '132' '133' '135' '136' '137' '36' '57' '87' 'VB' 'VII' 'VN'\n",
      " 'VR' '01-187' '01-262' '01-343' '01-501' '01-502' '01-503' '01-504' '5'\n",
      " '86' '88']\n"
     ]
    }
   ],
   "source": [
    "print(resultCABA['CODIGO_AGRUPACION'].unique())"
   ]
  },
  {
   "cell_type": "markdown",
   "id": "39a5d483",
   "metadata": {},
   "source": [
    "VOTOS_AGRUPACION"
   ]
  },
  {
   "cell_type": "code",
   "execution_count": 20,
   "id": "3c970c6f",
   "metadata": {},
   "outputs": [
    {
     "name": "stdout",
     "output_type": "stream",
     "text": [
      "[  1   5   2  15  85 101  20   0   4   3   6   8   9  89  99  14  94 106\n",
      "  80 111  21  16  10  93 109  19  12 117  17  87 100 105  27 110  13  91\n",
      "  95  18 104   7  98 114 108 107  97 113 102 122  11  26  92 115 103  86\n",
      " 126 123  64 125  77  71 121  23  73 118  70  78  75  22  81  83  84 129\n",
      "  96 128 180  42 162  32 187  34 185  36 169  39 186 176 160  37 199 174\n",
      "  24 179  33 167  35  29 144 133 141  41 138 146 131 135 142  31  44 132\n",
      " 161 156 127  40 137 134 140  54 143 191 201 175  25 204  28 188 189 183\n",
      " 182 177 193 196 192 184 195 158  46 214 198 168 209 206 190 178 173  30\n",
      " 181 172 154  38  48 157 150  45 171  43 170  47 145 155 120  63 124  50\n",
      "  56  58 148  53 149 139 147  49  65  62  61 116 112  68  59  55  60  52\n",
      "  67  66  82  79  69 136  72  74  88  76  90 119 130  57 151 164 153 200\n",
      " 207 202 197  51 165 163 159 152 166 194 203 205 220 208 210 211 223 212\n",
      " 222 217 213 218 219]\n"
     ]
    }
   ],
   "source": [
    "print(resultCABA['VOTOS_AGRUPACION'].unique())"
   ]
  },
  {
   "cell_type": "markdown",
   "id": "41be6b45",
   "metadata": {},
   "source": [
    "NOMBRE_CATEGORIA"
   ]
  },
  {
   "cell_type": "code",
   "execution_count": 21,
   "id": "ee114ba9",
   "metadata": {},
   "outputs": [
    {
     "name": "stdout",
     "output_type": "stream",
     "text": [
      "['Presidente y Vicepresidente de la República'\n",
      " 'Senadores Nacionales Ciudad Autónoma de Buenos Aires'\n",
      " 'Diputados Nacionales Ciudad Autónoma de Buenos Aires'\n",
      " 'Jefe de Gobierno Ciudad Autónoma de Buenos Aires'\n",
      " 'Diputados Ciudad Autónoma de Buenos Aires'\n",
      " 'Junta Comunal Ciudad Autónoma de Buenos Aires - Comuna 1'\n",
      " 'Junta Comunal Ciudad Autónoma de Buenos Aires - Comuna 2'\n",
      " 'Junta Comunal Ciudad Autónoma de Buenos Aires - Comuna 3'\n",
      " 'Junta Comunal Ciudad Autónoma de Buenos Aires - Comuna 4'\n",
      " 'Junta Comunal Ciudad Autónoma de Buenos Aires - Comuna 5'\n",
      " 'Junta Comunal Ciudad Autónoma de Buenos Aires - Comuna 6'\n",
      " 'Junta Comunal Ciudad Autónoma de Buenos Aires - Comuna 7'\n",
      " 'Junta Comunal Ciudad Autónoma de Buenos Aires - Comuna 8'\n",
      " 'Junta Comunal Ciudad Autónoma de Buenos Aires - Comuna 9'\n",
      " 'Junta Comunal Ciudad Autónoma de Buenos Aires - Comuna 10'\n",
      " 'Junta Comunal Ciudad Autónoma de Buenos Aires - Comuna 11'\n",
      " 'Junta Comunal Ciudad Autónoma de Buenos Aires - Comuna 12'\n",
      " 'Junta Comunal Ciudad Autónoma de Buenos Aires - Comuna 13'\n",
      " 'Junta Comunal Ciudad Autónoma de Buenos Aires - Comuna 14'\n",
      " 'Junta Comunal Ciudad Autónoma de Buenos Aires - Comuna 15']\n"
     ]
    }
   ],
   "source": [
    "print(resultCABA['NOMBRE_CATEGORIA'].unique())"
   ]
  },
  {
   "cell_type": "markdown",
   "id": "52bb2158",
   "metadata": {},
   "source": [
    "NOMBRE_REGION"
   ]
  },
  {
   "cell_type": "code",
   "execution_count": 22,
   "id": "5600ad69",
   "metadata": {},
   "outputs": [
    {
     "name": "stdout",
     "output_type": "stream",
     "text": [
      "['COMUNA 01' 'COMUNA 02' 'COMUNA 03' 'COMUNA 04' 'COMUNA 05' 'COMUNA 06'\n",
      " 'COMUNA 07' 'COMUNA 08' 'COMUNA 09' 'COMUNA 10' 'COMUNA 11' 'COMUNA 12'\n",
      " 'COMUNA 13' 'COMUNA 14' 'COMUNA 15']\n"
     ]
    }
   ],
   "source": [
    "print(resultCABA['NOMBRE_REGION'].unique())"
   ]
  },
  {
   "cell_type": "markdown",
   "id": "7f4ec2d8",
   "metadata": {},
   "source": [
    "NOMBRE_AGRUPACION"
   ]
  },
  {
   "cell_type": "code",
   "execution_count": 23,
   "id": "669cf083",
   "metadata": {
    "scrolled": true,
    "pycharm": {
     "name": "#%%\n"
    }
   },
   "outputs": [
    {
     "name": "stdout",
     "output_type": "stream",
     "text": [
      "['MOVIMIENTO AL SOCIALISMO' 'FRENTE NOS' 'FRENTE PATRIOTA'\n",
      " 'FRENTE DE IZQUIERDA Y DE TRABAJADORES - UNIDAD' 'JUNTOS POR EL CAMBIO'\n",
      " 'FRENTE DE TODOS' 'CONSENSO FEDERAL' 'PARTIDO AUTONOMISTA'\n",
      " 'MOVIMIENTO DE ACCION VECINAL' 'UNITE POR LA LIBERTAD Y LA DIGNIDAD'\n",
      " 'BLANCO' 'IMPUGNADO' 'NULO' 'RECURRIDO' 'AUTODETERMINACION Y LIBERTAD'\n",
      " 'EL MOVIMIENTO' 'MOVIMIENTO DE JUBILADOS Y JUVENTUD'\n",
      " 'DEMOCRATA CRISTIANO' 'FRENTE RENOVADOR AUTENTICO'\n",
      " 'PARTIDO DIGNIDAD POPULAR']\n"
     ]
    }
   ],
   "source": [
    "print(resultCABA['NOMBRE_AGRUPACION'].unique())"
   ]
  }
 ],
 "metadata": {
  "kernelspec": {
   "display_name": "Python 3",
   "language": "python",
   "name": "python3"
  },
  "language_info": {
   "codemirror_mode": {
    "name": "ipython",
    "version": 3
   },
   "file_extension": ".py",
   "mimetype": "text/x-python",
   "name": "python",
   "nbconvert_exporter": "python",
   "pygments_lexer": "ipython3",
   "version": "3.8.5"
  }
 },
 "nbformat": 4,
 "nbformat_minor": 5
}